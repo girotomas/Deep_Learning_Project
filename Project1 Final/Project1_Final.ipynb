{
 "cells": [
  {
   "cell_type": "markdown",
   "metadata": {},
   "source": [
    "# Mini Project 1: MNSIT Pair Comparison"
   ]
  },
  {
   "cell_type": "code",
   "execution_count": 506,
   "metadata": {
    "collapsed": true
   },
   "outputs": [],
   "source": [
    "import torch\n",
    "import numpy as np\n",
    "from torch import nn\n",
    "import matplotlib.pyplot as plt\n",
    "import dlc_practical_prologue as prologue\n",
    "from torch.nn import functional as F"
   ]
  },
  {
   "cell_type": "code",
   "execution_count": 561,
   "metadata": {},
   "outputs": [],
   "source": [
    "train_input, train_target, train_classes, test_input, test_target, test_classes = prologue.generate_pair_sets(1000)"
   ]
  },
  {
   "cell_type": "code",
   "execution_count": 527,
   "metadata": {},
   "outputs": [],
   "source": [
    "# train and test classes to categorical\n",
    "def to_categorical(y, num_classes):\n",
    "    \"\"\" 1-hot encodes a tensor \"\"\"\n",
    "    return torch.Tensor(np.eye(num_classes, dtype='uint8')[y]).type(torch.LongTensor)\n",
    "train_classes, test_classes = to_categorical(train_classes, 10), to_categorical(test_classes, 10)"
   ]
  },
  {
   "cell_type": "code",
   "execution_count": 683,
   "metadata": {},
   "outputs": [
    {
     "name": "stdout",
     "output_type": "stream",
     "text": [
      "0.0\n"
     ]
    },
    {
     "data": {
      "text/plain": [
       "0.0"
      ]
     },
     "execution_count": 683,
     "metadata": {},
     "output_type": "execute_result"
    }
   ],
   "source": [
    "# function to compute classes accuracy\n",
    "def accuracy_classes(predicted, target):\n",
    "    '''\n",
    "    computes the accuracy of the predicted classes in %\n",
    "    '''\n",
    "\n",
    "    predicted_1 = predicted.narrow( 1, 0, 10)\n",
    "    predicted_2 = predicted.narrow( 1, 10, 10)\n",
    "    predicted_1 = predicted_1.argmax(dim=1)\n",
    "    predicted_2 = predicted_2.argmax(dim=1)\n",
    "    target_1=target[:,0]\n",
    "    target_2=target[:,1]\n",
    "    return ( 100-( ( (target_1 != predicted_1) | (target_2 != predicted_2 ) ).sum() ).item() /target_1.shape[0] * 100)\n",
    "\n",
    "# test:\n",
    "print(accuracy_classes( model(test_input.narrow(0,0,5))[0], test_classes.narrow(0,0,5))  ) \n",
    "accuracy_classes( test_classes_binary.narrow(0,0,5), test_classes.narrow(0,0,5))    "
   ]
  },
  {
   "cell_type": "code",
   "execution_count": 669,
   "metadata": {},
   "outputs": [
    {
     "data": {
      "text/plain": [
       "tensor([[ 0.1999,  0.0401,  0.2855, -0.0391, -0.3504,  0.0983,  0.2851,  0.0000,\n",
       "          0.2810,  0.0000, -0.0339,  0.6586,  0.0651, -0.2410, -0.2479, -0.0866,\n",
       "          0.1012, -0.0000,  0.1401, -0.0448],\n",
       "        [-0.0041, -0.0178, -0.0000, -0.0504,  0.5869, -0.2315, -0.2064, -0.0739,\n",
       "          0.0515, -0.0636, -0.1815, -0.0829, -0.2509,  0.2774,  0.0000, -0.0154,\n",
       "         -0.1106, -0.0228, -0.3577,  0.6436],\n",
       "        [-0.3464,  0.6299, -0.1265,  0.0000, -0.3632,  0.4243, -0.2138, -0.1000,\n",
       "         -0.3689,  0.6202,  0.5072,  0.0091,  0.1067, -0.0089, -0.0807, -0.0217,\n",
       "         -0.0613,  0.0156,  0.1312, -0.0073],\n",
       "        [ 0.4040, -0.0410,  0.0000, -0.0328,  0.2466, -0.0562,  0.2854,  0.0784,\n",
       "          0.1883,  0.0626, -0.1095, -0.0410,  0.0052, -0.0000, -0.2408,  0.0000,\n",
       "         -0.1645, -0.0710,  0.0960, -0.0147],\n",
       "        [ 0.2492, -0.0866,  0.0000, -0.0289,  0.4086,  0.1514,  0.3691, -0.0513,\n",
       "          0.3451, -0.0000,  0.3205, -0.0192,  0.5708,  0.5080,  0.4465, -0.0501,\n",
       "          0.0000,  0.6724,  0.0000, -0.0000]], grad_fn=<CatBackward>)"
      ]
     },
     "execution_count": 669,
     "metadata": {},
     "output_type": "execute_result"
    }
   ],
   "source": [
    "model(test_input.narrow(0,0,5))[0]"
   ]
  },
  {
   "cell_type": "code",
   "execution_count": 652,
   "metadata": {},
   "outputs": [
    {
     "name": "stdout",
     "output_type": "stream",
     "text": [
      "tensor(60.0000)\n"
     ]
    },
    {
     "data": {
      "text/plain": [
       "tensor(0.)"
      ]
     },
     "execution_count": 652,
     "metadata": {},
     "output_type": "execute_result"
    }
   ],
   "source": [
    "def accuracy_comparison(predicted, target):\n",
    "    '''computes accuracy for output'''\n",
    "    return( (torch.abs(predicted - target) < 0.5).sum().float() / target.shape[0] * 100)\n",
    "\n",
    "# test:\n",
    "print(accuracy_comparison(CNN()(test_input.narrow(0,0,5))[1], test_target.narrow(0,0,5).float())  ) \n",
    "accuracy_comparison( test_target.narrow(0,0,5), test_target.narrow(0,0,5))    "
   ]
  },
  {
   "cell_type": "code",
   "execution_count": 653,
   "metadata": {},
   "outputs": [
    {
     "data": {
      "text/plain": [
       "tensor(52.)"
      ]
     },
     "execution_count": 653,
     "metadata": {},
     "output_type": "execute_result"
    }
   ],
   "source": [
    "# test \n",
    "accuracy_comparison(torch.Tensor([0.5574]), torch.Tensor([0., 1., 0., 1., 0., 1., 1., 0., 1., 1., 1., 0., 1., 1., 0., 0., 1., 0.,\n",
    "        0., 0., 1., 1., 1., 0., 0., 0., 1., 0., 1., 1., 0., 0., 0., 1., 1., 1.,\n",
    "        0., 0., 1., 1., 0., 0., 1., 0., 1., 1., 0., 1., 0., 0., 0., 0., 0., 0.,\n",
    "        0., 0., 1., 1., 1., 1., 1., 0., 0., 1., 0., 1., 0., 1., 1., 0., 1., 0.,\n",
    "        0., 1., 1., 1., 1., 1., 0., 1., 1., 1., 0., 1., 0., 0., 1., 1., 0., 0.,\n",
    "        1., 1., 1., 0., 1., 1., 1., 0., 0., 0.]))"
   ]
  },
  {
   "cell_type": "code",
   "execution_count": 723,
   "metadata": {},
   "outputs": [
    {
     "name": "stdout",
     "output_type": "stream",
     "text": [
      "CNN(\n",
      "  (conv1): Sequential(\n",
      "    (0): Conv2d(1, 16, kernel_size=(2, 2), stride=(1, 1), padding=(4, 4))\n",
      "    (1): ReLU()\n",
      "    (2): MaxPool2d(kernel_size=2, stride=2, padding=0, dilation=1, ceil_mode=False)\n",
      "  )\n",
      "  (conv2): Sequential(\n",
      "    (0): Conv2d(16, 8, kernel_size=(5, 5), stride=(1, 1), padding=(4, 4))\n",
      "    (1): ReLU()\n",
      "    (2): MaxPool2d(kernel_size=2, stride=2, padding=0, dilation=1, ceil_mode=False)\n",
      "  )\n",
      "  (fc1): Sequential(\n",
      "    (0): Linear(in_features=392, out_features=20, bias=True)\n",
      "    (1): ReLU()\n",
      "  )\n",
      "  (fc2): Sequential(\n",
      "    (0): Linear(in_features=20, out_features=10, bias=True)\n",
      "    (1): ReLU()\n",
      "  )\n",
      "  (fc3): Sequential(\n",
      "    (0): Linear(in_features=20, out_features=1, bias=True)\n",
      "    (1): Sigmoid()\n",
      "  )\n",
      ")\n"
     ]
    }
   ],
   "source": [
    "# define the model\n",
    "\n",
    "class CNN(nn.Module):\n",
    "    def __init__(self):\n",
    "        super(CNN, self).__init__()\n",
    "        self.conv1 = nn.Sequential(         # input shape (1, 28, 28)\n",
    "            nn.Conv2d(\n",
    "                in_channels=1,              # input height\n",
    "                out_channels=16,            # n_filters\n",
    "                kernel_size=2,              # filter size\n",
    "                stride=1,                   # filter movement/step\n",
    "                padding=4,                  # if want same width and length of this image after Conv2d, padding=(kernel_size-1)/2 if stride=1\n",
    "            ),                              # output shape (16, 28, 28)\n",
    "            nn.ReLU(),                      # activation\n",
    "            nn.MaxPool2d(kernel_size=2),    # choose max value in 2x2 area, output shape (16, 14, 14)\n",
    "        )\n",
    "        self.conv2 = nn.Sequential(         # input shape (16, 14, 14)\n",
    "            nn.Conv2d(16, 8, 5, 1, 4),     # output shape (32, 14, 14)\n",
    "            nn.ReLU(),                      # activation\n",
    "            nn.MaxPool2d(2),                # output shape (32, 7, 7)\n",
    "        )\n",
    "\n",
    "\n",
    "        self.fc1 = nn.Sequential(\n",
    "            nn.Linear(8 * 7 * 7, 20),  # fully connected layer, output 10 classes\n",
    "            nn.ReLU(),  \n",
    "        )\n",
    "        self.fc2 = nn.Sequential(\n",
    "            nn.Linear(20, 10) ,  # fully connected layer, output 10 classes\n",
    "            nn.ReLU(),  \n",
    "        )\n",
    "        self.fc3 = nn.Sequential(\n",
    "            nn.Linear(20, 1) ,  # fully connected layer, output 10 classes\n",
    "            nn.Sigmoid(),  \n",
    "        )\n",
    "        '''\n",
    "        self.fc4 = nn.Sequential(\n",
    "            nn.Linear(100, 1) ,  # fully connected layer, output 10 classes\n",
    "            nn.Sigmoid(),  \n",
    "        )\n",
    "'''\n",
    "    def forward(self, x):\n",
    "        #first convolutional layer\n",
    "        _x = torch.reshape(x[:,0,:,:], (-1, 1, 14, 14))\n",
    "        _x1 = self.conv1(_x)\n",
    "        _x = torch.reshape(x[:,1,:,:], (-1, 1, 14, 14))\n",
    "        _x2 = self.conv1(_x)\n",
    "\n",
    "        #second convolutional layer\n",
    "\n",
    "        _x1 = self.conv2(_x1)\n",
    "        _x2 = self.conv2(_x2)\n",
    "\n",
    "        #flatten images\n",
    "        _x1 = _x1.view(_x1.size(0), -1)           # flatten the output of conv2 to (batch_size, 32 * 7 * 7)\n",
    "        _x2 = _x2.view(_x2.size(0), -1)           # flatten the output of conv2 to (batch_size, 32 * 7 * 7)\n",
    "\n",
    "        #first fc layer\n",
    "        _x1 = F.relu(self.fc1(_x1))\n",
    "        _x2 = F.relu(self.fc1(_x2))\n",
    "\n",
    "        #second fc layer\n",
    "        _x1 = self.fc2(_x1)\n",
    "        _x2 = self.fc2(_x2)\n",
    "\n",
    "        #concatenate and retrun auxilary output\n",
    "        _x = torch.cat((_x1, _x2), 1)   \n",
    "        aux_out = _x\n",
    "\n",
    "\n",
    "\n",
    "        #third and fourth fc layer\n",
    "        _x = self.fc3(_x)\n",
    "        #_x = self.fc4(_x)\n",
    "        return  aux_out, _x.view(1,-1)\n",
    "print(CNN())"
   ]
  },
  {
   "cell_type": "code",
   "execution_count": null,
   "metadata": {
    "scrolled": false
   },
   "outputs": [
    {
     "name": "stdout",
     "output_type": "stream",
     "text": [
      "epoch: (../ 300 )\n",
      "0 1 2 3 4 5 6 7 8 9 10 11 12 13 14 15 16 17 18 19 20 21 22 23 24 25 26 27 28 29 30 31 32 33 34 35 36 37 38 39 40 41 42 43 44 45 46 47 48 49 50 51 52 53 54 55 56 57 58 59 60 61 62 63 64 65 66 67 68 69 70 71 72 73 74 75 76 77 78 79 80 81 82 83 84 85 86 87 88 89 90 91 92 93 94 95 96 97 98 99 100 101 102 103 104 105 106 107 108 109 110 111 112 113 114 115 116 117 118 119 120 121 122 123 124 125 126 127 128 129 130 131 132 133 134 135 136 137 138 139 140 141 142 143 144 145 146 147 148 149 150 151 152 153 154 155 156 157 158 159 160 161 162 163 164 165 166 167 168 169 170 171 172 173 174 175 176 177 178 179 180 181 182 183 184 185 186 187 188 189 190 191 192 193 194 195 196 197 198 199 200 201 202 203 204 205 206 207 208 209 210 211 212 213 214 215 216 217 218 219 220 221 222 223 224 225 226 227 228 229 230 231 232 233 234 235 236 237 238 239 240 241 242 243 244 245 246 247 248 249 250 251 252 253 254 255 256 257 258 259 260 261 262 263 264 265 266 267 268 269 270 271 272 273 274 275 276 277 278 279 280 281 282 283 284 285 286 287 288 289 290 291 292 293 294 295 296 297 298 299 "
     ]
    },
    {
     "data": {
      "image/png": "[encoded data removed]",
      "text/plain": [
       "<Figure size 864x504 with 1 Axes>"
      ]
     },
     "metadata": {},
     "output_type": "display_data"
    },
    {
     "data": {
      "image/png": "[encoded data removed]",
      "text/plain": [
       "<Figure size 864x504 with 1 Axes>"
      ]
     },
     "metadata": {},
     "output_type": "display_data"
    },
    {
     "name": "stdout",
     "output_type": "stream",
     "text": [
      "epoch: (../ 300 )\n",
      "0 1 2 3 4 5 6 7 8 9 10 11 12 13 14 15 16 17 18 19 20 21 22 23 24 25 26 27 28 29 30 31 32 33 34 35 36 37 38 39 40 41 42 43 44 45 46 47 48 49 50 51 52 53 54 55 56 57 58 59 60 61 62 63 64 65 66 67 68 69 70 71 72 73 74 75 "
     ]
    }
   ],
   "source": [
    "# Training of the model\n",
    "modes = ['auxiliar loss only',\n",
    "         'no auxiliar loss', \n",
    "         'auxiliar and normal loss',\n",
    "         'auxiliar loss first then normal loss',\n",
    "         'auxiliar loss first then the sum loss', \n",
    "         'aux if rec acc < .6',\n",
    "         'aux if rec acc < .8']\n",
    "data = {}\n",
    "\n",
    "\n",
    "for mode in modes:\n",
    "    data[mode]={\n",
    "        'recognition loss':[],\n",
    "        'recognition acc':[],\n",
    "        'comparison loss':[],\n",
    "        'comparison acc': [],\n",
    "    }\n",
    "\n",
    "def run(mode):\n",
    "    \n",
    "    if mode == 'auxiliar loss only':\n",
    "        loss_function = lambda main_loss, aux_loss, e, a :  aux_loss\n",
    "\n",
    "    if mode == 'no auxiliar loss':\n",
    "        loss_function = lambda main_loss, aux_loss,e, a:  main_loss\n",
    "\n",
    "    if mode == 'auxiliar and normal loss':\n",
    "        loss_function = lambda main_loss, aux_loss, e, a :  main_loss + aux_loss\n",
    "\n",
    "    if mode == 'auxiliar loss first then normal loss':\n",
    "        loss_function = lambda main_loss, aux_loss, epoch, a: aux_loss    if ( epoch < epochs /2) else main_loss\n",
    "\n",
    "    if mode == 'auxiliar loss first then the sum loss':\n",
    "        loss_function = lambda main_loss, aux_loss, epoch, a: aux_loss    if ( epoch < epochs /2) else main_loss + aux_loss\n",
    "    \n",
    "    if mode == 'aux if rec acc < .6':\n",
    "        loss_function = lambda main_loss, aux_loss, epoch, aux_acc: aux_loss if aux_acc < 60 else main_loss  + aux_loss\n",
    "\n",
    "    if mode == 'aux if rec acc < .8':\n",
    "        loss_function = lambda main_loss, aux_loss, epoch, aux_acc: aux_loss if aux_acc < 80 else main_loss  + aux_loss\n",
    "\n",
    "\n",
    "        \n",
    "    eta= 0.0001\n",
    "    mini_batch_size = 100\n",
    "    epochs = 300\n",
    "\n",
    "    model = CNN()\n",
    "    criterion_aux = nn.CrossEntropyLoss() # criterion for digit recognition\n",
    "    criterion_main = torch.nn.BCELoss() # criterion for digit comparison\n",
    "\n",
    "    # use adam optimizer for SGD\n",
    "    optimizer = torch.optim.Adam(model.parameters(), lr=eta)\n",
    "\n",
    "    # compute minibatch test target\n",
    "    minibatch_test_target = test_target.narrow(0, 0, mini_batch_size)\n",
    "    minibatch_test_input = test_input.narrow(0, 0, mini_batch_size)\n",
    "\n",
    "    # print total number of epochs\n",
    "    print('epoch: (../ '+str(epochs)+' )')\n",
    "    \n",
    "    # necessary for loss_function\n",
    "    aux_validation_acc_item = 0\n",
    "    \n",
    "    for e in range(0, epochs):\n",
    "        #print current epoch\n",
    "        print(str(e), sep=' ', end=' ', flush=True)\n",
    "\n",
    "        # We do this with mini-batches\n",
    "        for b in range(0, train_input.size(0), mini_batch_size):\n",
    "\n",
    "            mini_batch_input = train_input.narrow(0, b, mini_batch_size)\n",
    "            mini_batch_target = train_target.narrow(0, b, mini_batch_size) #classification labels Nx1\n",
    "            mini_batch_target_aux = train_classes.narrow(0, b, mini_batch_size) #binary 'what number are these images' Nx20\n",
    "\n",
    "\n",
    "            #output_aux is the Nx20 output of the second fc layer corresponding to what image pairs were predicted\n",
    "            #output is the Nx1 output corresponding to: if image 0 or image 1 is bigger\n",
    "            output_aux, output = model(mini_batch_input)  \n",
    "            \n",
    "            loss_aux = criterion_aux(output_aux[:,10:], mini_batch_target_aux[:,1])\n",
    "            loss_main = criterion_main(output[0,:], mini_batch_target.float())\n",
    "\n",
    "            optimizer.zero_grad()\n",
    "            loss = loss_function( loss_main, loss_aux, e, aux_validation_acc_item )\n",
    "            loss.backward()\n",
    "            optimizer.step()\n",
    "\n",
    "\n",
    "\n",
    "        # compute validation loss and accuracy\n",
    "        \n",
    "        with torch.no_grad():\n",
    "            \n",
    "            \n",
    "            #compute outputs for test data\n",
    "            validation_output_aux, validation_output = model(test_input)\n",
    "\n",
    "            # compute loss for test data\n",
    "            main_validation_loss = criterion_main( validation_output[0,:], test_target.float()) \n",
    "            aux_validation_loss = criterion_aux(validation_output_aux[:,:10], test_classes[:,0].long()) + criterion_aux(validation_output_aux[:,10:], test_classes[:,1].long())\n",
    "\n",
    "            # compute accuracy for test and train data\n",
    "            main_validation_acc_item = accuracy_comparison( validation_output[0,:], test_target.float())\n",
    "            aux_validation_acc_item = accuracy_classes(validation_output_aux, test_classes)\n",
    "\n",
    "\n",
    "            # append to arrays\n",
    "            # save results in d\n",
    "            d = data[mode]\n",
    "            \n",
    "            d['comparison loss'].append(main_validation_loss.item())\n",
    "            d['recognition loss'].append(aux_validation_loss.item())\n",
    "            d['comparison acc'].append(main_validation_acc_item)\n",
    "            d['recognition acc'].append(aux_validation_acc_item)\n",
    "\n",
    "\n",
    "    \n",
    "    # plotting accuracy\n",
    "    plt.figure(figsize=(12,7))\n",
    "\n",
    "    plt.title('Accuracy curves of the model with lr= '+str(eta)\n",
    "               +' and in mode '+mode)\n",
    "\n",
    "    \n",
    "    plt.plot(d['comparison acc'], label='comparison acc')\n",
    "    plt.plot(d['recognition acc'], label='recognition acc')\n",
    "    plt.legend()\n",
    "    plt.xlabel('epoch')\n",
    "    plt.ylabel('accuracy  in %')\n",
    "    plt.show()\n",
    "    \n",
    "    # plotting loss\n",
    "    plt.figure(figsize=(12,7))\n",
    "\n",
    "    plt.title('Loss curves of the model with lr= '+str(eta)\n",
    "               +' and in mode '+mode)\n",
    "\n",
    "    \n",
    "    plt.plot(d['comparison loss'], label='comparison loss')\n",
    "    plt.plot(d['recognition loss'], label='recognition loss')\n",
    "    plt.legend()\n",
    "    plt.xlabel('epoch')\n",
    "    plt.ylabel('loss')\n",
    "    plt.yscale('log')\n",
    "    plt.show()\n",
    "    \n",
    "run('aux if rec acc < .8')\n",
    "run('aux if rec acc < .6')\n",
    "\n",
    "for mode in modes:\n",
    "    run(mode)"
   ]
  },
  {
   "cell_type": "code",
   "execution_count": 700,
   "metadata": {},
   "outputs": [
    {
     "name": "stdout",
     "output_type": "stream",
     "text": [
      "Train error: 0.391\n",
      "Test error: 0.41\n",
      "Number of parameters: 17979\n"
     ]
    }
   ],
   "source": [
    "train_e, train_pred = errorr(model, train_input, train_target, mini_batch_size)\n",
    "\n",
    "test_e, test_pred = errorr(model, test_input, test_target, mini_batch_size)\n",
    "\n",
    "print('Train error:', train_e/train_input.size(0))\n",
    "\n",
    "print('Test error:', test_e/test_input.size(0))\n",
    "\n",
    "print('Number of parameters:', sum(p.numel() for p in CNN().parameters() if p.requires_grad)) "
   ]
  },
  {
   "cell_type": "markdown",
   "metadata": {},
   "source": [
    "# Take a look at the input vs prediction"
   ]
  },
  {
   "cell_type": "markdown",
   "metadata": {},
   "source": [
    "### TRAIN"
   ]
  },
  {
   "cell_type": "code",
   "execution_count": 428,
   "metadata": {},
   "outputs": [
    {
     "data": {
      "text/plain": [
       "tensor([0, 1, 0, 0, 0, 1, 1, 1, 1, 0, 1, 1, 0, 0, 1, 0, 1, 0, 1, 1, 1, 1, 1, 0,\n",
       "        1, 1, 0, 1, 1, 1, 0, 0, 0, 0, 1, 1, 1, 0, 1, 1, 0, 1, 0, 0, 0, 1, 1, 1,\n",
       "        0, 0, 0, 0, 0, 0, 0, 1, 1, 1, 1, 1, 1, 1, 0, 1, 0, 0, 0, 1, 0, 0, 1, 1,\n",
       "        0, 1, 1, 1, 0, 0, 0, 0, 0, 1, 1, 0, 0, 0, 0, 1, 1, 1, 0, 1, 1, 1, 1, 0,\n",
       "        1, 0, 1, 1])"
      ]
     },
     "execution_count": 428,
     "metadata": {},
     "output_type": "execute_result"
    }
   ],
   "source": [
    "train_target[:100]"
   ]
  },
  {
   "cell_type": "code",
   "execution_count": 429,
   "metadata": {},
   "outputs": [
    {
     "data": {
      "text/plain": [
       "tensor([1, 1, 1, 1, 1, 0, 0, 0, 0, 1, 0, 0, 1, 1, 1, 0, 0, 0, 0, 0, 1, 0, 0, 1,\n",
       "        1, 0, 1, 0, 0, 0, 1, 0, 0, 0, 1, 0, 0, 0, 0, 1, 1, 0, 1, 1, 1, 1, 0, 1,\n",
       "        1, 1, 1, 1, 1, 0, 1, 1, 0, 0, 1, 1, 1, 0, 1, 0, 1, 1, 0, 0, 1, 0, 0, 0,\n",
       "        1, 1, 1, 0, 0, 1, 1, 0, 1, 0, 1, 0, 1, 0, 1, 1, 1, 1, 1, 1, 0, 0, 0, 0,\n",
       "        1, 0, 1, 1])"
      ]
     },
     "execution_count": 429,
     "metadata": {},
     "output_type": "execute_result"
    }
   ],
   "source": [
    "train_pred[0] #predicted pairs in training for first mini batch of 100\n",
    "\n",
    "#first 15 elements of each vector below are left and right columns above, repsectively"
   ]
  },
  {
   "cell_type": "markdown",
   "metadata": {},
   "source": [
    "Print image pairs if you want"
   ]
  },
  {
   "cell_type": "code",
   "execution_count": 430,
   "metadata": {
    "collapsed": true
   },
   "outputs": [],
   "source": [
    "#for i in range(10):\n",
    "#    f, (ax1, ax2) = plt.subplots(1, 2, sharey=True)\n",
    "#    ax1.imshow(train_input[i,0,:,:].cpu(), cmap='gray', interpolation='none')\n",
    "#    ax2.imshow(train_input[i,1,:,:].cpu(), cmap='gray', interpolation='none')\n",
    "\n",
    "#    plt.show()"
   ]
  },
  {
   "cell_type": "code",
   "execution_count": 431,
   "metadata": {
    "collapsed": true
   },
   "outputs": [],
   "source": [
    "#train_classes_binary_0[:10]"
   ]
  },
  {
   "cell_type": "code",
   "execution_count": 432,
   "metadata": {
    "collapsed": true
   },
   "outputs": [],
   "source": [
    "#train_classes_binary_1[:10]"
   ]
  },
  {
   "cell_type": "markdown",
   "metadata": {},
   "source": [
    "### TEST"
   ]
  },
  {
   "cell_type": "code",
   "execution_count": 433,
   "metadata": {},
   "outputs": [
    {
     "data": {
      "text/plain": [
       "tensor([1, 0, 0, 1, 0, 1, 1, 1, 1, 1, 0, 1, 0, 0, 1, 1, 1, 0, 0, 0, 0, 1, 0, 0,\n",
       "        1, 0, 1, 1, 1, 0, 0, 0, 1, 1, 1, 1, 1, 1, 1, 1, 0, 0, 1, 1, 1, 1, 1, 1,\n",
       "        1, 1, 1, 0, 0, 0, 0, 1, 1, 1, 1, 0, 1, 1, 0, 1, 0, 0, 1, 1, 1, 1, 1, 1,\n",
       "        1, 0, 1, 0, 0, 1, 0, 0, 0, 0, 1, 0, 1, 1, 0, 1, 1, 1, 1, 0, 1, 1, 1, 0,\n",
       "        0, 0, 1, 1])"
      ]
     },
     "execution_count": 433,
     "metadata": {},
     "output_type": "execute_result"
    }
   ],
   "source": [
    "test_target[:100]"
   ]
  },
  {
   "cell_type": "code",
   "execution_count": 434,
   "metadata": {},
   "outputs": [
    {
     "data": {
      "text/plain": [
       "tensor([0, 1, 1, 0, 1, 1, 0, 0, 0, 0, 0, 0, 1, 1, 0, 0, 0, 0, 1, 0, 1, 0, 0, 0,\n",
       "        1, 1, 0, 1, 0, 0, 1, 1, 0, 0, 1, 0, 1, 0, 1, 1, 0, 1, 1, 1, 1, 0, 1, 1,\n",
       "        0, 0, 1, 1, 1, 1, 1, 0, 1, 0, 0, 1, 1, 1, 1, 0, 0, 1, 0, 1, 1, 0, 1, 0,\n",
       "        0, 1, 1, 1, 1, 0, 0, 1, 0, 1, 0, 0, 0, 1, 1, 1, 1, 0, 0, 0, 1, 1, 1, 1,\n",
       "        1, 1, 1, 1])"
      ]
     },
     "execution_count": 434,
     "metadata": {},
     "output_type": "execute_result"
    }
   ],
   "source": [
    "test_pred[0] #predicted pairs in testing for first mini batch of 100"
   ]
  },
  {
   "cell_type": "markdown",
   "metadata": {},
   "source": [
    "Primt image pairs if you want"
   ]
  },
  {
   "cell_type": "code",
   "execution_count": 435,
   "metadata": {
    "collapsed": true
   },
   "outputs": [],
   "source": [
    "#for i in range(10):\n",
    "#    f, (ax1, ax2) = plt.subplots(1, 2, sharey=True)\n",
    "#    ax1.imshow(test_input[i,0,:,:].cpu(), cmap='gray', interpolation='none')\n",
    "#    ax2.imshow(test_input[i,1,:,:].cpu(), cmap='gray', interpolation='none')\n",
    "\n",
    "#    plt.show()"
   ]
  },
  {
   "cell_type": "code",
   "execution_count": null,
   "metadata": {
    "collapsed": true
   },
   "outputs": [],
   "source": []
  },
  {
   "cell_type": "code",
   "execution_count": 436,
   "metadata": {
    "collapsed": true
   },
   "outputs": [],
   "source": [
    "#test_classes_binary_0[:10]"
   ]
  },
  {
   "cell_type": "code",
   "execution_count": 437,
   "metadata": {
    "collapsed": true
   },
   "outputs": [],
   "source": [
    "#test_classes_binary_1[:10]"
   ]
  },
  {
   "cell_type": "code",
   "execution_count": null,
   "metadata": {
    "collapsed": true
   },
   "outputs": [],
   "source": []
  }
 ],
 "metadata": {
  "kernelspec": {
   "display_name": "Python 3",
   "language": "python",
   "name": "python3"
  },
  "language_info": {
   "codemirror_mode": {
    "name": "ipython",
    "version": 3
   },
   "file_extension": ".py",
   "mimetype": "text/x-python",
   "name": "python",
   "nbconvert_exporter": "python",
   "pygments_lexer": "ipython3",
   "version": "3.6.8"
  }
 },
 "nbformat": 4,
 "nbformat_minor": 2
}
