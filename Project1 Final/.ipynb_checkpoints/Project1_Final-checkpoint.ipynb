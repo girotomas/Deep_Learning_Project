{
 "cells": [
  {
   "cell_type": "markdown",
   "metadata": {},
   "source": [
    "# Mini Project 1: MNSIT Pair Comparison"
   ]
  },
  {
   "cell_type": "code",
   "execution_count": 33,
   "metadata": {},
   "outputs": [],
   "source": [
    "import torch\n",
    "from torch import nn\n",
    "import matplotlib.pyplot as plt\n",
    "\n",
    "# Imports from the folder we created\n",
    "from Utils.DataImport import DataImport #import data import class\n",
    "from Utils.errs import compute_nb_errors_pred as errorr # import error function\n",
    "from Utils.Networks import CNN_SP #import network object\n",
    "\n",
    "import warnings\n",
    "warnings.filterwarnings('ignore')\n",
    "\n",
    "import seaborn as sns\n",
    "sns.set()"
   ]
  },
  {
   "cell_type": "code",
   "execution_count": 2,
   "metadata": {},
   "outputs": [
    {
     "name": "stdout",
     "output_type": "stream",
     "text": [
      "Device is cpu\n"
     ]
    }
   ],
   "source": [
    "#set to use CPU or GPU automatically based on what is available\n",
    "def select_device():\n",
    "    if torch.cuda.is_available():\n",
    "        return torch.device('cuda')\n",
    "    else:\n",
    "        return torch.device('cpu')\n",
    "    \n",
    "device = select_device()\n",
    "print('Device is',device)"
   ]
  },
  {
   "cell_type": "code",
   "execution_count": 3,
   "metadata": {},
   "outputs": [],
   "source": [
    "# instantiate data importer class and get training and test data dicts\n",
    "D = DataImport(device)\n",
    "Train, Test = D.Train, D.Test\n",
    "\n",
    "train_input = Train[\"Train Input\"]\n",
    "test_input = Test[\"Test Input\"]\n",
    "\n",
    "train_classes = Train[\"Train Classes\"]\n",
    "test_classes = Test[\"Test Classes\"]\n",
    "\n",
    "train_target = Train[\"Train Target\"]\n",
    "test_target = Test[\"Test Target\"]\n",
    "\n",
    "# convert classes from Nx2 to Nx20, decimal image labels to binary\n",
    "train_classes_binary = Train[\"Train CB\"] \n",
    "test_classes_binary = Test[\"Test CB\"]"
   ]
  },
  {
   "cell_type": "code",
   "execution_count": 54,
   "metadata": {},
   "outputs": [],
   "source": [
    "def train_model(model, criterion_main, criterion_aux, optimizer, train_input, train_classes, train_target, mini_batch_size, gamma):\n",
    "\n",
    "    L_main, L_aux, L = [], [], []\n",
    "    for e in range(0, 25):\n",
    "        sum_loss = 0\n",
    "        # We do this with mini-batches\n",
    "        for b in range(0, train_input.size(0), mini_batch_size):\n",
    "\n",
    "            mini_batch_input = train_input.narrow(0, b, mini_batch_size)\n",
    "            mini_batch_target = train_target.narrow(0, b, mini_batch_size) #classification labels Nx1\n",
    "            mini_batch_target_aux = train_classes.narrow(0, b, mini_batch_size) #binary 'what number are these images' Nx20\n",
    "\n",
    "\n",
    "            #output_aux is the Nx20 output of the second fc layer corresponding to what image pairs were predicted\n",
    "            #output is the Nx2 output corresponding to: if image 0 or iamge 1 is bigger\n",
    "            output_aux, output = model(mini_batch_input)  \n",
    "            \n",
    "            loss_aux = criterion_aux(output_aux, mini_batch_target_aux) #image pair detection loss\n",
    "            loss_main = criterion_main(output, mini_batch_target) #classification loss with crossentropy\n",
    "            \n",
    "            loss = loss_main + loss_aux\n",
    "            \n",
    "            sum_loss = sum_loss + loss.item()\n",
    "            \n",
    "            optimizer.zero_grad()\n",
    "            loss.backward()\n",
    "            optimizer.step()\n",
    "            \n",
    "            if b == 900:\n",
    "                L_main.append(loss_main.item())\n",
    "                L_aux.append(loss_aux.item())\n",
    "                L.append(loss.item())\n",
    "\n",
    "            # these two penalties do almost nothing\n",
    "            with torch.no_grad():\n",
    "                for p in model.parameters():\n",
    "                    p.sub_(p.sign()*p.abs().clamp(max=0.00001))\n",
    "                    \n",
    "            with torch.no_grad():\n",
    "                for p in model.parameters():\n",
    "                    loss += gamma * p.pow(2).sum()\n",
    "                    \n",
    "\n",
    "\n",
    "                    \n",
    "    return L_main, L_aux, L"
   ]
  },
  {
   "cell_type": "code",
   "execution_count": 55,
   "metadata": {},
   "outputs": [],
   "source": [
    "eta, mini_batch_size, penalty = 0.001, 100, 1\n",
    "\n",
    "# use created network as model, cross entropy as main criterion, and MSE loss as aux criterion\n",
    "model, criterion_main, criterion_aux = CNN_SP(), nn.CrossEntropyLoss(reduction='mean'), nn.MSELoss(),#net with weight sharing and classification\n",
    "model, criterion_main, criterion_aux = model.to(device), criterion_main.to(device), criterion_aux.to(device), \n",
    "\n",
    "# use adam optimizer for SGD\n",
    "optimizer = torch.optim.Adam(model.parameters(), lr=eta)\n",
    "\n",
    "L_main, L_aux, L = train_model(model.train(), criterion_main, criterion_aux, optimizer, train_input, train_classes_binary, train_target, mini_batch_size, penalty)"
   ]
  },
  {
   "cell_type": "code",
   "execution_count": null,
   "metadata": {},
   "outputs": [],
   "source": []
  },
  {
   "cell_type": "code",
   "execution_count": 56,
   "metadata": {},
   "outputs": [
    {
     "name": "stdout",
     "output_type": "stream",
     "text": [
      "Train error: 0.045\n",
      "Test error: 0.21\n",
      "Number of parameters: 95928\n"
     ]
    }
   ],
   "source": [
    "train_e, train_pred = errorr(model, train_input, train_target, mini_batch_size)\n",
    "\n",
    "test_e, test_pred = errorr(model, test_input, test_target, mini_batch_size)\n",
    "\n",
    "print('Train error:', train_e/train_input.size(0))\n",
    "\n",
    "print('Test error:', test_e/test_input.size(0))\n",
    "\n",
    "print('Number of parameters:', sum(p.numel() for p in model.parameters() if p.requires_grad)) "
   ]
  },
  {
   "cell_type": "markdown",
   "metadata": {},
   "source": [
    "Plot of loss functions at end of each epoch"
   ]
  },
  {
   "cell_type": "code",
   "execution_count": 57,
   "metadata": {},
   "outputs": [
    {
     "data": {
      "image/png": "[encoded data removed]",
      "text/plain": [
       "<Figure size 864x504 with 1 Axes>"
      ]
     },
     "metadata": {},
     "output_type": "display_data"
    }
   ],
   "source": [
    "plt.figure(figsize=(12,7))\n",
    "plt.plot(L, label='Total Loss')\n",
    "plt.plot(L_main, label='Main Loss')\n",
    "plt.plot(L_aux, label='Aux Loss')\n",
    "plt.legend()\n",
    "plt.show()"
   ]
  },
  {
   "cell_type": "markdown",
   "metadata": {},
   "source": [
    "# Take a look at the input vs prediction"
   ]
  },
  {
   "cell_type": "markdown",
   "metadata": {},
   "source": [
    "### TRAIN"
   ]
  },
  {
   "cell_type": "code",
   "execution_count": 7,
   "metadata": {},
   "outputs": [
    {
     "data": {
      "text/plain": [
       "tensor([0, 0, 0, 0, 1, 0, 1, 0, 1, 1, 0, 0, 0, 0, 0, 0, 0, 1, 0, 1, 1, 1, 1, 1,\n",
       "        0, 1, 1, 0, 1, 0, 1, 1, 1, 0, 0, 0, 1, 1, 0, 1, 1, 1, 0, 1, 1, 0, 1, 1,\n",
       "        1, 1, 1, 0, 0, 1, 1, 0, 1, 1, 0, 0, 1, 1, 0, 1, 1, 1, 0, 1, 1, 1, 0, 1,\n",
       "        1, 1, 0, 1, 1, 1, 0, 0, 1, 0, 1, 1, 1, 0, 1, 1, 1, 1, 0, 0, 0, 0, 1, 0,\n",
       "        1, 0, 1, 1])"
      ]
     },
     "execution_count": 7,
     "metadata": {},
     "output_type": "execute_result"
    }
   ],
   "source": [
    "train_target[:100]"
   ]
  },
  {
   "cell_type": "code",
   "execution_count": 8,
   "metadata": {},
   "outputs": [
    {
     "data": {
      "text/plain": [
       "tensor([1, 0, 0, 0, 0, 0, 1, 0, 0, 0, 1, 1, 0, 1, 0, 0, 0, 1, 1, 1, 0, 0, 1, 1,\n",
       "        0, 1, 1, 1, 1, 0, 0, 1, 1, 1, 0, 0, 1, 1, 1, 0, 0, 0, 0, 1, 1, 1, 1, 1,\n",
       "        1, 1, 1, 0, 0, 1, 0, 1, 0, 1, 1, 0, 1, 1, 0, 0, 1, 1, 1, 1, 0, 0, 0, 1,\n",
       "        1, 1, 0, 0, 1, 1, 1, 1, 0, 1, 1, 0, 1, 0, 0, 1, 1, 0, 1, 0, 0, 0, 0, 1,\n",
       "        1, 0, 1, 1])"
      ]
     },
     "execution_count": 8,
     "metadata": {},
     "output_type": "execute_result"
    }
   ],
   "source": [
    "train_pred[0] #predicted pairs in training for first mini batch of 100\n",
    "\n",
    "#first 15 elements of each vector below are left and right columns above, repsectively"
   ]
  },
  {
   "cell_type": "markdown",
   "metadata": {},
   "source": [
    "Print image pairs if you want"
   ]
  },
  {
   "cell_type": "code",
   "execution_count": 9,
   "metadata": {},
   "outputs": [],
   "source": [
    "#for i in range(10):\n",
    "#    f, (ax1, ax2) = plt.subplots(1, 2, sharey=True)\n",
    "#    ax1.imshow(train_input[i,0,:,:].cpu(), cmap='gray', interpolation='none')\n",
    "#    ax2.imshow(train_input[i,1,:,:].cpu(), cmap='gray', interpolation='none')\n",
    "\n",
    "#    plt.show()"
   ]
  },
  {
   "cell_type": "code",
   "execution_count": 10,
   "metadata": {},
   "outputs": [],
   "source": [
    "#train_classes_binary_0[:10]"
   ]
  },
  {
   "cell_type": "code",
   "execution_count": 11,
   "metadata": {},
   "outputs": [],
   "source": [
    "#train_classes_binary_1[:10]"
   ]
  },
  {
   "cell_type": "markdown",
   "metadata": {},
   "source": [
    "### TEST"
   ]
  },
  {
   "cell_type": "code",
   "execution_count": 12,
   "metadata": {},
   "outputs": [
    {
     "data": {
      "text/plain": [
       "tensor([1, 0, 0, 1, 0, 1, 0, 1, 1, 1, 1, 0, 1, 0, 1, 1, 0, 0, 1, 0, 1, 0, 0, 0,\n",
       "        0, 1, 1, 0, 0, 0, 1, 0, 1, 1, 1, 1, 0, 1, 0, 0, 0, 1, 1, 0, 1, 1, 1, 1,\n",
       "        1, 0, 0, 1, 0, 1, 1, 0, 1, 1, 1, 0, 0, 0, 0, 1, 0, 1, 1, 0, 1, 1, 1, 0,\n",
       "        1, 1, 0, 0, 1, 0, 1, 0, 0, 1, 1, 1, 0, 1, 1, 1, 1, 1, 0, 0, 0, 1, 0, 0,\n",
       "        0, 1, 1, 0])"
      ]
     },
     "execution_count": 12,
     "metadata": {},
     "output_type": "execute_result"
    }
   ],
   "source": [
    "test_target[:100]"
   ]
  },
  {
   "cell_type": "code",
   "execution_count": 13,
   "metadata": {},
   "outputs": [
    {
     "data": {
      "text/plain": [
       "tensor([1, 1, 1, 1, 0, 1, 0, 1, 1, 1, 1, 0, 1, 1, 1, 1, 1, 0, 0, 0, 1, 0, 0, 0,\n",
       "        0, 1, 1, 0, 1, 0, 0, 0, 0, 1, 1, 1, 1, 0, 0, 0, 1, 1, 0, 0, 0, 0, 0, 1,\n",
       "        1, 0, 0, 0, 1, 1, 1, 0, 1, 0, 1, 0, 0, 0, 1, 1, 1, 0, 1, 0, 1, 1, 1, 0,\n",
       "        1, 1, 0, 0, 0, 0, 1, 0, 0, 1, 1, 0, 0, 1, 1, 0, 1, 0, 0, 0, 1, 1, 1, 1,\n",
       "        0, 1, 1, 1])"
      ]
     },
     "execution_count": 13,
     "metadata": {},
     "output_type": "execute_result"
    }
   ],
   "source": [
    "test_pred[0] #predicted pairs in testing for first mini batch of 100"
   ]
  },
  {
   "cell_type": "markdown",
   "metadata": {},
   "source": [
    "Primt image pairs if you want"
   ]
  },
  {
   "cell_type": "code",
   "execution_count": 14,
   "metadata": {},
   "outputs": [],
   "source": [
    "#for i in range(10):\n",
    "#    f, (ax1, ax2) = plt.subplots(1, 2, sharey=True)\n",
    "#    ax1.imshow(test_input[i,0,:,:].cpu(), cmap='gray', interpolation='none')\n",
    "#    ax2.imshow(test_input[i,1,:,:].cpu(), cmap='gray', interpolation='none')\n",
    "\n",
    "#    plt.show()"
   ]
  },
  {
   "cell_type": "code",
   "execution_count": null,
   "metadata": {},
   "outputs": [],
   "source": []
  },
  {
   "cell_type": "code",
   "execution_count": 15,
   "metadata": {},
   "outputs": [],
   "source": [
    "#test_classes_binary_0[:10]"
   ]
  },
  {
   "cell_type": "code",
   "execution_count": 16,
   "metadata": {},
   "outputs": [],
   "source": [
    "#test_classes_binary_1[:10]"
   ]
  },
  {
   "cell_type": "code",
   "execution_count": null,
   "metadata": {},
   "outputs": [],
   "source": []
  }
 ],
 "metadata": {
  "kernelspec": {
   "display_name": "Python 3",
   "language": "python",
   "name": "python3"
  },
  "language_info": {
   "codemirror_mode": {
    "name": "ipython",
    "version": 3
   },
   "file_extension": ".py",
   "mimetype": "text/x-python",
   "name": "python",
   "nbconvert_exporter": "python",
   "pygments_lexer": "ipython3",
   "version": "3.7.1"
  }
 },
 "nbformat": 4,
 "nbformat_minor": 2
}
