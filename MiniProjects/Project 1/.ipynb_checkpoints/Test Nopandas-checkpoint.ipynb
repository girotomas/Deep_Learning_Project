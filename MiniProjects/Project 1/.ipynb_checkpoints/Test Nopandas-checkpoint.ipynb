{
 "cells": [
  {
   "cell_type": "code",
   "execution_count": 1,
   "metadata": {},
   "outputs": [],
   "source": [
    "import numpy as np\n",
    "import pandas as pd\n"
   ]
  },
  {
   "cell_type": "code",
   "execution_count": 17,
   "metadata": {},
   "outputs": [
    {
     "name": "stdout",
     "output_type": "stream",
     "text": [
      "loading from file\n",
      "deep \t without auxiliar loss \t True \t 80.62001 \t 0.4422677\n",
      "deep \t with auxiliar loss \t True \t 81.91 \t 1.208679\n",
      "deep \t without auxiliar loss \t False \t 78.829994 \t 0.71560955\n",
      "deep \t with auxiliar loss \t False \t 79.43001 \t 1.3371984\n",
      "fully connected \t without auxiliar loss \t True \t 76.71 \t 1.0606118\n",
      "fully connected \t with auxiliar loss \t True \t 70.31 \t 12.398907\n",
      "fully connected \t without auxiliar loss \t False \t 74.579994 \t 0.49152845\n",
      "fully connected \t with auxiliar loss \t False \t 73.55 \t 3.7696838\n",
      "deep with sigmoids \t without auxiliar loss \t True \t 76.64 \t 1.0781455\n",
      "deep with sigmoids \t with auxiliar loss \t True \t 78.04 \t 0.62641674\n",
      "deep with sigmoids \t without auxiliar loss \t False \t 75.56 \t 1.0451807\n",
      "deep with sigmoids \t with auxiliar loss \t False \t 75.909996 \t 0.7034919\n"
     ]
    }
   ],
   "source": [
    "DATA = pd.read_pickle('DATA2'); print('loading from file')    \n",
    "D = dict(DATA)\n",
    "D2 = D.copy()\n",
    "D2.pop('history', None)\n",
    "\n",
    "\n",
    "D2['mean comparison acc'] = [np.array([ np.array(comparison_acc).max()  for comparison_acc in history['comparison acc'] ]).mean() for history in  D['history']]\n",
    "D2['std comparison acc'] = [np.array([ np.array(comparison_acc).max()  for comparison_acc in history['comparison acc'] ]).std() for history in  D['history']]\n",
    "for i in range(12):\n",
    "    print(D2['architecture'][i],'\\t',D2['training mode'][i],'\\t',D2['weight sharing'][i],'\\t',D2['mean comparison acc'][i],'\\t',D2['std comparison acc'][i])"
   ]
  },
  {
   "cell_type": "code",
   "execution_count": 18,
   "metadata": {},
   "outputs": [
    {
     "name": "stdout",
     "output_type": "stream",
     "text": [
      "<class 'dict'>\n"
     ]
    }
   ],
   "source": [
    "print(type(D2))"
   ]
  },
  {
   "cell_type": "code",
   "execution_count": null,
   "metadata": {},
   "outputs": [],
   "source": []
  }
 ],
 "metadata": {
  "kernelspec": {
   "display_name": "Python 3",
   "language": "python",
   "name": "python3"
  },
  "language_info": {
   "codemirror_mode": {
    "name": "ipython",
    "version": 3
   },
   "file_extension": ".py",
   "mimetype": "text/x-python",
   "name": "python",
   "nbconvert_exporter": "python",
   "pygments_lexer": "ipython3",
   "version": "3.7.3"
  }
 },
 "nbformat": 4,
 "nbformat_minor": 2
}
