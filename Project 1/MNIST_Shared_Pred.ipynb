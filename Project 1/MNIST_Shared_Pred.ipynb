{
 "cells": [
  {
   "cell_type": "code",
   "execution_count": 1,
   "metadata": {},
   "outputs": [],
   "source": [
    "import torch\n",
    "from torch import nn\n",
    "\n",
    "#import dlc_practical_prologue as prologue\n",
    "from Utils.DataImport import DataImport\n",
    "from Utils.errs import compute_nb_errors_pred as errorr\n",
    "from Utils.Networks import CNN_SP\n",
    "import matplotlib.pyplot as plt\n",
    "\n",
    "import warnings\n",
    "warnings.filterwarnings('ignore')"
   ]
  },
  {
   "cell_type": "code",
   "execution_count": 2,
   "metadata": {},
   "outputs": [
    {
     "name": "stdout",
     "output_type": "stream",
     "text": [
      "Device is cuda\n"
     ]
    }
   ],
   "source": [
    "#set to use CPU or GPU automatically based on what is available\n",
    "def select_device():\n",
    "    if torch.cuda.is_available():\n",
    "        return torch.device('cuda')\n",
    "    else:\n",
    "        return torch.device('cpu')\n",
    "    \n",
    "device = select_device()\n",
    "print('Device is',device)\n",
    "\n",
    "D = DataImport(device)\n",
    "Train, Test = D.Train, D.Test\n",
    "\n",
    "train_input = Train[\"Train Input\"]\n",
    "test_input = Test[\"Test Input\"]\n",
    "\n",
    "train_classes = Train[\"Train Classes\"]\n",
    "test_classes = Test[\"Test Classes\"]\n",
    "\n",
    "train_target = Train[\"Train Target\"]\n",
    "test_target = Test[\"Test Target\"]\n",
    "\n",
    "train_target_binary = Train[\"Train TB\"]\n",
    "test_target_binary = Test[\"Test TB\"]\n",
    "\n",
    "train_classes_binary = Train[\"Train CB\"]\n",
    "test_classes_binary = Test[\"Test CB\"]\n",
    "\n",
    "train_classes_binary_0 = Train[\"Train CB0\"]\n",
    "test_classes_binary_0 = Test[\"Test CB0\"]\n",
    "\n",
    "train_classes_binary_1 = Train[\"Train CB1\"]\n",
    "test_classes_binary_1 = Test[\"Test CB1\"]\n"
   ]
  },
  {
   "cell_type": "code",
   "execution_count": 3,
   "metadata": {},
   "outputs": [],
   "source": [
    "def train_model(model, criterion_main, criterion_aux, optimizer, train_input, train_classes, train_target, mini_batch_size):\n",
    "\n",
    "    for e in range(0, 25):\n",
    "        sum_loss = 0\n",
    "        # We do this with mini-batches\n",
    "        for b in range(0, train_input.size(0), mini_batch_size):\n",
    "\n",
    "            mini_batch_input = train_input.narrow(0, b, mini_batch_size)\n",
    "            mini_batch_target = train_target.narrow(0, b, mini_batch_size)\n",
    "            mini_batch_target_aux = train_classes.narrow(0, b, mini_batch_size)\n",
    "\n",
    "\n",
    "            output_aux, output = model(mini_batch_input)  \n",
    "            \n",
    "            loss_aux = criterion_aux(output_aux, mini_batch_target_aux)\n",
    "            loss_main = criterion_main(output, mini_batch_target)\n",
    "            \n",
    "            loss = loss_main + loss_aux\n",
    "\n",
    "            sum_loss = sum_loss + loss.item()\n",
    "            \n",
    "            optimizer.zero_grad()\n",
    "            loss.backward()\n",
    "            optimizer.step()\n",
    "\n",
    "            #optimizer_main.zero_grad()\n",
    "            #optimizer_aux.zero_grad()\n",
    "\n",
    "\n",
    "            #loss_main.backward(retain_graph = True)\n",
    "            #optimizer_main.step()\n",
    "            \n",
    "            #loss_aux.backward()\n",
    "            #optimizer_aux.step()\n",
    "\n",
    "            with torch.no_grad():\n",
    "                for p in model.parameters():\n",
    "                    p.sub_(p.sign()*p.abs().clamp(max=0.000))"
   ]
  },
  {
   "cell_type": "code",
   "execution_count": 4,
   "metadata": {},
   "outputs": [],
   "source": [
    "eta, mini_batch_size, momentum = 0.001, 100, 0.025\n",
    "\n",
    "model, criterion = CNN_SP(), nn.MSELoss() #net with weight sharing\n",
    "model, criterion = model.to(device), criterion.to(device)\n",
    "optimizer = torch.optim.Adam(model.parameters(), lr=eta)\n",
    "#optimizer_aux = torch.optim.Adam(model.aux_out.parameters(), lr=eta)\n",
    "\n",
    "\n",
    "train_model(model.train(), criterion, criterion, optimizer, train_input, train_classes_binary, train_target_binary, mini_batch_size)"
   ]
  },
  {
   "cell_type": "code",
   "execution_count": null,
   "metadata": {},
   "outputs": [],
   "source": []
  },
  {
   "cell_type": "code",
   "execution_count": 5,
   "metadata": {},
   "outputs": [
    {
     "name": "stdout",
     "output_type": "stream",
     "text": [
      "Train error: 0.007\n",
      "Test error: 0.231\n",
      "Number of parameters: 95928\n"
     ]
    }
   ],
   "source": [
    "train_e, train_pred = errorr(model, train_input, train_target, mini_batch_size)\n",
    "\n",
    "test_e, test_pred = errorr(model, test_input, test_target, mini_batch_size)\n",
    "\n",
    "print('Train error:', train_e/train_input.size(0))\n",
    "\n",
    "print('Test error:', test_e/test_input.size(0))\n",
    "\n",
    "print('Number of parameters:', sum(p.numel() for p in model.parameters() if p.requires_grad)) "
   ]
  },
  {
   "cell_type": "markdown",
   "metadata": {},
   "source": [
    "# Take a look at the input vs prediction"
   ]
  },
  {
   "cell_type": "markdown",
   "metadata": {},
   "source": [
    "### TRAIN"
   ]
  },
  {
   "cell_type": "code",
   "execution_count": 6,
   "metadata": {},
   "outputs": [
    {
     "data": {
      "text/plain": [
       "tensor([0, 0, 0, 0, 1, 0, 1, 0, 1, 1, 0, 0, 0, 0, 0, 0, 0, 1, 0, 1, 1, 1, 1, 1,\n",
       "        0, 1, 1, 0, 1, 0, 1, 1, 1, 0, 0, 0, 1, 1, 0, 1, 1, 1, 0, 1, 1, 0, 1, 1,\n",
       "        1, 1, 1, 0, 0, 1, 1, 0, 1, 1, 0, 0, 1, 1, 0, 1, 1, 1, 0, 1, 1, 1, 0, 1,\n",
       "        1, 1, 0, 1, 1, 1, 0, 0, 1, 0, 1, 1, 1, 0, 1, 1, 1, 1, 0, 0, 0, 0, 1, 0,\n",
       "        1, 0, 1, 1], device='cuda:0')"
      ]
     },
     "execution_count": 6,
     "metadata": {},
     "output_type": "execute_result"
    }
   ],
   "source": [
    "train_target[:100]"
   ]
  },
  {
   "cell_type": "code",
   "execution_count": 7,
   "metadata": {},
   "outputs": [
    {
     "data": {
      "text/plain": [
       "tensor([0, 0, 0, 0, 1, 0, 1, 0, 1, 1, 0, 0, 0, 0, 0, 0, 0, 1, 0, 1, 1, 1, 1, 1,\n",
       "        0, 1, 1, 0, 1, 0, 1, 1, 1, 0, 0, 0, 1, 1, 0, 1, 1, 1, 0, 1, 1, 0, 1, 1,\n",
       "        1, 1, 1, 0, 0, 1, 1, 0, 1, 1, 0, 0, 1, 1, 0, 1, 1, 1, 0, 1, 1, 1, 0, 1,\n",
       "        1, 1, 0, 1, 1, 1, 0, 0, 1, 0, 1, 1, 0, 0, 1, 1, 1, 1, 0, 0, 0, 0, 1, 0,\n",
       "        0, 0, 1, 1], device='cuda:0')"
      ]
     },
     "execution_count": 7,
     "metadata": {},
     "output_type": "execute_result"
    }
   ],
   "source": [
    "train_pred[0] #predicted pairs in training for first mini batch of 100\n",
    "\n",
    "#first 15 elements of each vector below are left and right columns above, repsectively"
   ]
  },
  {
   "cell_type": "code",
   "execution_count": null,
   "metadata": {},
   "outputs": [],
   "source": []
  },
  {
   "cell_type": "code",
   "execution_count": 8,
   "metadata": {},
   "outputs": [],
   "source": [
    "#for i in range(10):\n",
    "#    f, (ax1, ax2) = plt.subplots(1, 2, sharey=True)\n",
    "#    ax1.imshow(train_input[i,0,:,:].cpu(), cmap='gray', interpolation='none')\n",
    "#    ax2.imshow(train_input[i,1,:,:].cpu(), cmap='gray', interpolation='none')\n",
    "\n",
    "#    plt.show()"
   ]
  },
  {
   "cell_type": "code",
   "execution_count": 9,
   "metadata": {},
   "outputs": [],
   "source": [
    "#train_classes_binary_0[:10]"
   ]
  },
  {
   "cell_type": "code",
   "execution_count": 10,
   "metadata": {},
   "outputs": [],
   "source": [
    "#train_classes_binary_1[:10]"
   ]
  },
  {
   "cell_type": "markdown",
   "metadata": {},
   "source": [
    "### TEST"
   ]
  },
  {
   "cell_type": "code",
   "execution_count": 11,
   "metadata": {},
   "outputs": [
    {
     "data": {
      "text/plain": [
       "tensor([1, 0, 0, 1, 0, 1, 0, 1, 1, 1, 1, 0, 1, 0, 1, 1, 0, 0, 1, 0, 1, 0, 0, 0,\n",
       "        0, 1, 1, 0, 0, 0, 1, 0, 1, 1, 1, 1, 0, 1, 0, 0, 0, 1, 1, 0, 1, 1, 1, 1,\n",
       "        1, 0, 0, 1, 0, 1, 1, 0, 1, 1, 1, 0, 0, 0, 0, 1, 0, 1, 1, 0, 1, 1, 1, 0,\n",
       "        1, 1, 0, 0, 1, 0, 1, 0, 0, 1, 1, 1, 0, 1, 1, 1, 1, 1, 0, 0, 0, 1, 0, 0,\n",
       "        0, 1, 1, 0], device='cuda:0')"
      ]
     },
     "execution_count": 11,
     "metadata": {},
     "output_type": "execute_result"
    }
   ],
   "source": [
    "test_target[:100]"
   ]
  },
  {
   "cell_type": "code",
   "execution_count": 12,
   "metadata": {},
   "outputs": [
    {
     "data": {
      "text/plain": [
       "tensor([1, 1, 1, 0, 0, 1, 0, 1, 0, 1, 1, 0, 1, 0, 1, 1, 1, 1, 0, 0, 1, 0, 0, 1,\n",
       "        0, 1, 1, 0, 1, 0, 0, 0, 0, 1, 0, 0, 0, 1, 0, 1, 1, 1, 1, 1, 1, 1, 0, 1,\n",
       "        0, 0, 1, 0, 0, 1, 0, 1, 0, 0, 1, 0, 0, 0, 0, 0, 1, 1, 1, 0, 1, 1, 1, 0,\n",
       "        1, 0, 0, 0, 1, 0, 1, 0, 0, 1, 1, 1, 1, 1, 1, 0, 1, 1, 0, 1, 0, 0, 1, 0,\n",
       "        0, 1, 1, 0], device='cuda:0')"
      ]
     },
     "execution_count": 12,
     "metadata": {},
     "output_type": "execute_result"
    }
   ],
   "source": [
    "test_pred[0] #predicted pairs in testing for first mini batch of 100"
   ]
  },
  {
   "cell_type": "code",
   "execution_count": null,
   "metadata": {},
   "outputs": [],
   "source": []
  },
  {
   "cell_type": "code",
   "execution_count": 13,
   "metadata": {},
   "outputs": [],
   "source": [
    "#for i in range(10):\n",
    "#    f, (ax1, ax2) = plt.subplots(1, 2, sharey=True)\n",
    "#    ax1.imshow(test_input[i,0,:,:].cpu(), cmap='gray', interpolation='none')\n",
    "#    ax2.imshow(test_input[i,1,:,:].cpu(), cmap='gray', interpolation='none')\n",
    "\n",
    "#    plt.show()"
   ]
  },
  {
   "cell_type": "code",
   "execution_count": null,
   "metadata": {},
   "outputs": [],
   "source": []
  },
  {
   "cell_type": "code",
   "execution_count": 14,
   "metadata": {},
   "outputs": [],
   "source": [
    "#test_classes_binary_0[:10]"
   ]
  },
  {
   "cell_type": "code",
   "execution_count": 15,
   "metadata": {},
   "outputs": [],
   "source": [
    "#test_classes_binary_1[:10]"
   ]
  },
  {
   "cell_type": "code",
   "execution_count": null,
   "metadata": {},
   "outputs": [],
   "source": []
  }
 ],
 "metadata": {
  "kernelspec": {
   "display_name": "Python 3",
   "language": "python",
   "name": "python3"
  },
  "language_info": {
   "codemirror_mode": {
    "name": "ipython",
    "version": 3
   },
   "file_extension": ".py",
   "mimetype": "text/x-python",
   "name": "python",
   "nbconvert_exporter": "python",
   "pygments_lexer": "ipython3",
   "version": "3.7.3"
  }
 },
 "nbformat": 4,
 "nbformat_minor": 2
}
