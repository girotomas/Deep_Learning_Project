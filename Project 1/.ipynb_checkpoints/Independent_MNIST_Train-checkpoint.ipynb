{
 "cells": [
  {
   "cell_type": "code",
   "execution_count": 1,
   "metadata": {},
   "outputs": [],
   "source": [
    "import torch\n",
    "from torch.autograd import Variable\n",
    "from torch import nn\n",
    "from torch import optim\n",
    "from torch.nn import functional as F\n",
    "\n",
    "#import dlc_practical_prologue as prologue\n",
    "from Utils.DataImport import DataImport\n",
    "from Utils.errs import compute_nb_errors as errorr\n",
    "from Utils.Networks import CNN\n",
    "import matplotlib.pyplot as plt"
   ]
  },
  {
   "cell_type": "code",
   "execution_count": 2,
   "metadata": {},
   "outputs": [
    {
     "name": "stdout",
     "output_type": "stream",
     "text": [
      "Device is cuda\n"
     ]
    },
    {
     "name": "stderr",
     "output_type": "stream",
     "text": [
      "/home/zaratras/anaconda3/lib/python3.7/site-packages/torchvision/datasets/mnist.py:53: UserWarning: train_data has been renamed data\n",
      "  warnings.warn(\"train_data has been renamed data\")\n",
      "/home/zaratras/anaconda3/lib/python3.7/site-packages/torchvision/datasets/mnist.py:43: UserWarning: train_labels has been renamed targets\n",
      "  warnings.warn(\"train_labels has been renamed targets\")\n",
      "/home/zaratras/anaconda3/lib/python3.7/site-packages/torchvision/datasets/mnist.py:58: UserWarning: test_data has been renamed data\n",
      "  warnings.warn(\"test_data has been renamed data\")\n",
      "/home/zaratras/anaconda3/lib/python3.7/site-packages/torchvision/datasets/mnist.py:48: UserWarning: test_labels has been renamed targets\n",
      "  warnings.warn(\"test_labels has been renamed targets\")\n"
     ]
    }
   ],
   "source": [
    "#set to use CPU or GPU automatically based on what is available\n",
    "def select_device():\n",
    "    if torch.cuda.is_available():\n",
    "        return torch.device('cuda')\n",
    "    else:\n",
    "        return torch.device('cpu')\n",
    "    \n",
    "device = select_device()\n",
    "print('Device is',device)\n",
    "\n",
    "D = DataImport(device)\n",
    "Train, Test = D.Train, D.Test\n",
    "\n",
    "train_input = Train[\"Train Input\"]\n",
    "test_input = Test[\"Test Input\"]\n",
    "\n",
    "train_input_0 = torch.reshape(train_input[:,0,:,:], (-1, 1, 14, 14))\n",
    "train_input_1 = torch.reshape(train_input[:,1,:,:], (-1, 1, 14, 14))\n",
    "\n",
    "test_input_0 = torch.reshape(test_input[:,0,:,:], (-1, 1, 14, 14))\n",
    "test_input_1 = torch.reshape(test_input[:,1,:,:], (-1, 1, 14, 14))\n",
    "\n",
    "train_classes = Train[\"Train Classes\"]\n",
    "test_classes = Test[\"Test Classes\"]\n",
    "\n",
    "train_classes_binary_0 = Train[\"Train CB0\"]\n",
    "test_classes_binary_0 = Test[\"Test CB0\"]\n",
    "\n",
    "train_classes_binary_1 = Train[\"Train CB1\"]\n",
    "test_classes_binary_1 = Test[\"Test CB1\"]"
   ]
  },
  {
   "cell_type": "code",
   "execution_count": 3,
   "metadata": {},
   "outputs": [],
   "source": [
    "def train_model(model, criterion, optimizer, train_input, train_target, mini_batch_size):\n",
    "\n",
    "    for e in range(0, 25):\n",
    "        sum_loss = 0\n",
    "        # We do this with mini-batches\n",
    "        for b in range(0, train_input.size(0), mini_batch_size):\n",
    "\n",
    "            mini_batch_input = train_input.narrow(0, b, mini_batch_size)\n",
    "            mini_batch_target = train_target.narrow(0, b, mini_batch_size)\n",
    "\n",
    "            output = model(mini_batch_input)            \n",
    "            loss = criterion(output, mini_batch_target)\n",
    "\n",
    "            sum_loss = sum_loss + loss.item()\n",
    "\n",
    "            optimizer.zero_grad()\n",
    "\n",
    "            loss.backward()\n",
    "\n",
    "            optimizer.step()\n",
    "\n",
    "            with torch.no_grad():\n",
    "                for p in model.parameters():\n",
    "                    p.sub_(p.sign()*p.abs().clamp(max=0.000))"
   ]
  },
  {
   "cell_type": "code",
   "execution_count": 5,
   "metadata": {},
   "outputs": [
    {
     "ename": "NameError",
     "evalue": "name 'train_e0' is not defined",
     "output_type": "error",
     "traceback": [
      "\u001b[0;31m---------------------------------------------------------------------------\u001b[0m",
      "\u001b[0;31mNameError\u001b[0m                                 Traceback (most recent call last)",
      "\u001b[0;32m<ipython-input-5-2747d9f8173d>\u001b[0m in \u001b[0;36m<module>\u001b[0;34m\u001b[0m\n\u001b[1;32m     13\u001b[0m \u001b[0mtest_e1\u001b[0m\u001b[0;34m,\u001b[0m \u001b[0mtest_pred_1\u001b[0m \u001b[0;34m=\u001b[0m \u001b[0merrorr\u001b[0m\u001b[0;34m(\u001b[0m\u001b[0mmodel\u001b[0m\u001b[0;34m,\u001b[0m \u001b[0mtest_input_1\u001b[0m\u001b[0;34m,\u001b[0m \u001b[0mtest_classes_binary_1\u001b[0m\u001b[0;34m,\u001b[0m \u001b[0mmini_batch_size\u001b[0m\u001b[0;34m)\u001b[0m\u001b[0;34m\u001b[0m\u001b[0;34m\u001b[0m\u001b[0m\n\u001b[1;32m     14\u001b[0m \u001b[0;34m\u001b[0m\u001b[0m\n\u001b[0;32m---> 15\u001b[0;31m \u001b[0mprint\u001b[0m\u001b[0;34m(\u001b[0m\u001b[0;34m'Train error 0 :'\u001b[0m\u001b[0;34m,\u001b[0m \u001b[0mtrain_e0\u001b[0m\u001b[0;34m/\u001b[0m\u001b[0mtrain_input\u001b[0m\u001b[0;34m.\u001b[0m\u001b[0msize\u001b[0m\u001b[0;34m(\u001b[0m\u001b[0;36m0\u001b[0m\u001b[0;34m)\u001b[0m\u001b[0;34m)\u001b[0m\u001b[0;34m\u001b[0m\u001b[0;34m\u001b[0m\u001b[0m\n\u001b[0m\u001b[1;32m     16\u001b[0m \u001b[0mprint\u001b[0m\u001b[0;34m(\u001b[0m\u001b[0;34m'Train error 1 :'\u001b[0m\u001b[0;34m,\u001b[0m \u001b[0mtrain_e1\u001b[0m\u001b[0;34m/\u001b[0m\u001b[0mtrain_input\u001b[0m\u001b[0;34m.\u001b[0m\u001b[0msize\u001b[0m\u001b[0;34m(\u001b[0m\u001b[0;36m0\u001b[0m\u001b[0;34m)\u001b[0m\u001b[0;34m,\u001b[0m\u001b[0;34m\"\\n\"\u001b[0m\u001b[0;34m)\u001b[0m\u001b[0;34m\u001b[0m\u001b[0;34m\u001b[0m\u001b[0m\n\u001b[1;32m     17\u001b[0m \u001b[0;34m\u001b[0m\u001b[0m\n",
      "\u001b[0;31mNameError\u001b[0m: name 'train_e0' is not defined"
     ]
    }
   ],
   "source": [
    "eta, mini_batch_size, momentum = 0.001, 100, 0.025\n",
    "\n",
    "model, criterion = CNN(), nn.MSELoss()\n",
    "model, criterion = model.to(device), criterion.to(device)\n",
    "optimizer = torch.optim.Adam(model.parameters(), lr=eta)\n",
    "\n",
    "train_model(model.train(), criterion, optimizer, train_input_0, train_classes_binary_0, mini_batch_size)\n",
    "\n",
    "train_e0, train_pred_1 = errorr(model, train_input_0, train_classes_binary_0, mini_batch_size)\n",
    "train_e1, train_pred_1 = errorr(model, train_input_1, train_classes_binary_1, mini_batch_size)\n",
    "\n",
    "test_e0, test_pred_0 = errorr(model, test_input_0, test_classes_binary_0, mini_batch_size)\n",
    "test_e1, test_pred_1 = errorr(model, test_input_1, test_classes_binary_1, mini_batch_size)\n",
    "\n",
    "print('Train error 0 :', train_e0/train_input.size(0))\n",
    "print('Train error 1 :', train_e1/train_input.size(0),\"\\n\")\n",
    "\n",
    "\n",
    "print('Test error 0 :', test_e0/test_input.size(0))\n",
    "print('Test error 1 :', test_e1/test_input.size(0),\"\\n\")\n",
    "\n",
    "print(sum(p.numel() for p in model.parameters() if p.requires_grad)) "
   ]
  },
  {
   "cell_type": "code",
   "execution_count": null,
   "metadata": {},
   "outputs": [],
   "source": [
    "train_e0"
   ]
  },
  {
   "cell_type": "markdown",
   "metadata": {},
   "source": [
    "# Take a look at the input"
   ]
  },
  {
   "cell_type": "code",
   "execution_count": null,
   "metadata": {},
   "outputs": [],
   "source": [
    "train_classes[:10]"
   ]
  },
  {
   "cell_type": "code",
   "execution_count": null,
   "metadata": {},
   "outputs": [],
   "source": [
    "for i in range(10):\n",
    "    f, (ax1, ax2) = plt.subplots(1, 2, sharey=True)\n",
    "    ax1.imshow(train_input_0[i,0,:,:].cpu(), cmap='gray', interpolation='none')\n",
    "    ax2.imshow(train_input_1[i,0,:,:].cpu(), cmap='gray', interpolation='none')\n",
    "\n",
    "    plt.show()"
   ]
  },
  {
   "cell_type": "code",
   "execution_count": null,
   "metadata": {},
   "outputs": [],
   "source": [
    "train_classes_binary_0[:10]"
   ]
  },
  {
   "cell_type": "code",
   "execution_count": null,
   "metadata": {},
   "outputs": [],
   "source": [
    "train_classes_binary_1[:10]"
   ]
  },
  {
   "cell_type": "code",
   "execution_count": null,
   "metadata": {},
   "outputs": [],
   "source": [
    "test_classes[:10]"
   ]
  },
  {
   "cell_type": "code",
   "execution_count": null,
   "metadata": {},
   "outputs": [],
   "source": [
    "for i in range(10):\n",
    "    f, (ax1, ax2) = plt.subplots(1, 2, sharey=True)\n",
    "    ax1.imshow(test_input_0[i,0,:,:].cpu(), cmap='gray', interpolation='none')\n",
    "    ax2.imshow(test_input_1[i,0,:,:].cpu(), cmap='gray', interpolation='none')\n",
    "\n",
    "    plt.show()"
   ]
  },
  {
   "cell_type": "code",
   "execution_count": null,
   "metadata": {},
   "outputs": [],
   "source": []
  },
  {
   "cell_type": "code",
   "execution_count": null,
   "metadata": {},
   "outputs": [],
   "source": [
    "test_classes_binary_0[:10]"
   ]
  },
  {
   "cell_type": "code",
   "execution_count": null,
   "metadata": {},
   "outputs": [],
   "source": [
    "test_classes_binary_1[:10]"
   ]
  },
  {
   "cell_type": "code",
   "execution_count": null,
   "metadata": {},
   "outputs": [],
   "source": []
  }
 ],
 "metadata": {
  "kernelspec": {
   "display_name": "Python 3",
   "language": "python",
   "name": "python3"
  },
  "language_info": {
   "codemirror_mode": {
    "name": "ipython",
    "version": 3
   },
   "file_extension": ".py",
   "mimetype": "text/x-python",
   "name": "python",
   "nbconvert_exporter": "python",
   "pygments_lexer": "ipython3",
   "version": "3.7.3"
  }
 },
 "nbformat": 4,
 "nbformat_minor": 2
}
