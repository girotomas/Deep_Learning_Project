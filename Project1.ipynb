{
 "cells": [
  {
   "cell_type": "code",
   "execution_count": 1,
   "metadata": {},
   "outputs": [],
   "source": [
    "import torch\n",
    "from torch.autograd import Variable\n",
    "from torch import nn\n",
    "from torch import optim\n",
    "from torch.nn import functional as F\n",
    "\n",
    "import dlc_practical_prologue as prologue"
   ]
  },
  {
   "cell_type": "code",
   "execution_count": 2,
   "metadata": {},
   "outputs": [],
   "source": [
    "#set to use CPU or GPU automatically based on what is available\n",
    "def select_device():\n",
    "    if torch.cuda.is_available():\n",
    "        return torch.device('cuda')\n",
    "    else:\n",
    "        return torch.device('cpu')\n",
    "    \n",
    "# convert decimal classes Nx2 in (0,9) to binary array Nx10 in (0,1) \n",
    "def decimal_to_binary(Array):\n",
    "    classes_binary_0 = torch.zeros(1000,10) #first image\n",
    "    classes_binary_1 = torch.zeros(1000,10) #second image\n",
    "    for i in range(1000):\n",
    "        classes_binary_0[i,int(Array[i,0].item())] = 1\n",
    "        classes_binary_1[i,int(Array[i,1].item())] = 1\n",
    "    return torch.cat((classes_binary_0, classes_binary_1), 1) #concatentate to Nx20\n",
    "\n",
    "# convert output of model (Nx20) to decimal class label (Nx2)\n",
    "def output_to_pred_classes(output):\n",
    "    _, a = output.data[:,:10].max(1)\n",
    "    _, b = output.data[:,10:].max(1)\n",
    "    a = torch.reshape(a,(output.shape[0],1))\n",
    "    b = torch.reshape(b,(output.shape[0],1))\n",
    "    return torch.cat((a,b),1)"
   ]
  },
  {
   "cell_type": "code",
   "execution_count": 3,
   "metadata": {},
   "outputs": [
    {
     "name": "stdout",
     "output_type": "stream",
     "text": [
      "Device is cuda\n"
     ]
    }
   ],
   "source": [
    "(train_input, train_target, train_classes, test_input, test_target, test_classes) = prologue.generate_pair_sets(1000)\n",
    "device = select_device()\n",
    "print('Device is',device)\n",
    "\n",
    "train_input, train_target = train_input.to(device), train_target.to(device)\n",
    "test_input, test_target = test_input.to(device), test_target.to(device)\n",
    "train_classes, test_classes = train_classes.to(device), test_classes.to(device)\n",
    "\n",
    "train_classes_binary, test_classes_binary = decimal_to_binary(train_classes), decimal_to_binary(test_classes)\n",
    "train_classes_binary, test_classes_binary = train_classes_binary.to(device), test_classes_binary.to(device)"
   ]
  },
  {
   "cell_type": "code",
   "execution_count": 4,
   "metadata": {},
   "outputs": [
    {
     "name": "stdout",
     "output_type": "stream",
     "text": [
      "train input size: torch.Size([1000, 2, 14, 14])\n",
      "train target size: torch.Size([1000])\n",
      "train classes size: torch.Size([1000, 2])\n",
      "test input size: torch.Size([1000, 2, 14, 14])\n",
      "test target size: torch.Size([1000])\n",
      "test classes size: torch.Size([1000, 2])\n"
     ]
    }
   ],
   "source": [
    "print('train input size:',train_input.size())\n",
    "print('train target size:',train_target.size())\n",
    "print('train classes size:',train_classes.size())\n",
    "print('test input size:',test_input.size())\n",
    "print('test target size:',test_target.size())\n",
    "print('test classes size:',test_classes.size())"
   ]
  },
  {
   "cell_type": "code",
   "execution_count": 5,
   "metadata": {},
   "outputs": [],
   "source": [
    "# The idea here is that the weights of the recognition of the digits are shared.\n",
    "class Model(nn.Module):\n",
    "    def __init__(self,n_hidden):\n",
    "        super(Model, self).__init__()\n",
    "        self.conv1 = nn.Conv2d(1, 20, 5)\n",
    "        self.conv2 = nn.Conv2d(20, 50, 5)\n",
    "        self.fc1 = nn.Linear(6*6*50, n_hidden) #this size depends on output of second layer\n",
    "        self.fc2 = nn.Linear(n_hidden, 10)\n",
    "\n",
    "    def forward(self, x):\n",
    "      # We take the first channel the second channel separately and we compute\n",
    "      # the forward pass thought the model (basically both images in pair separately)\n",
    "        \n",
    "        # first layer\n",
    "        _x = torch.reshape(x[:,0,:,:], (-1, 1, 14, 14))\n",
    "        _x1 = F.relu(self.conv1(_x))\n",
    "        _x = torch.reshape(x[:,1,:,:], (-1, 1, 14, 14))\n",
    "        _x2 = F.relu(self.conv1(_x))\n",
    "        \n",
    "        #second layer\n",
    "        _x1 = F.relu(self.conv2(_x1))\n",
    "        _x2 = F.relu(self.conv2(_x2)) #_x1 and _x2 shape = (N,50,6,6) so use this in view below\n",
    "        \n",
    "        #third layer\n",
    "        _x1 = _x1.view(-1, 6*6*50) #unpack the image from pixel grid to array to feed it to FC\n",
    "        _x2 = _x2.view(-1, 6*6*50)\n",
    "        _x1 = F.relu(self.fc1(_x1))\n",
    "        _x2 = F.relu(self.fc1(_x2))\n",
    "        \n",
    "        #fourth layer\n",
    "        _x1 = self.fc2(_x1)\n",
    "        _x2 = self.fc2(_x2)\n",
    "        _x1 = F.log_softmax(_x1, dim=1)\n",
    "        _x2 = F.log_softmax(_x2, dim=1)\n",
    "        \n",
    "        #we concatenate the result\n",
    "        return torch.cat((_x1, _x2), 1)"
   ]
  },
  {
   "cell_type": "code",
   "execution_count": 6,
   "metadata": {},
   "outputs": [],
   "source": [
    "def train_model(model, criterion, optimizer, train_input, train_target, mini_batch_size):\n",
    "\n",
    "    for e in range(0, 25):\n",
    "        sum_loss = 0\n",
    "        nb_errors = 0\n",
    "        # We do this with mini-batches\n",
    "        for b in range(0, train_input.size(0), mini_batch_size):\n",
    "\n",
    "            mini_batch_input = train_input.narrow(0, b, mini_batch_size)\n",
    "            mini_batch_target = train_target.narrow(0, b, mini_batch_size)\n",
    "\n",
    "            output = model(mini_batch_input)\n",
    "                        \n",
    "            loss = criterion(output, mini_batch_target)\n",
    "\n",
    "            sum_loss = sum_loss + loss.item()\n",
    "\n",
    "            model.zero_grad()\n",
    "\n",
    "            loss.backward()\n",
    "            optimizer.step()\n"
   ]
  },
  {
   "cell_type": "code",
   "execution_count": 7,
   "metadata": {},
   "outputs": [],
   "source": [
    "def compute_nb_errors(model, inputt, target, mini_batch_size):\n",
    "    nb_errors = 0\n",
    "\n",
    "    for b in range(0, inputt.size(0), mini_batch_size):\n",
    "        output = model(inputt.narrow(0, b, mini_batch_size))\n",
    "        predicted_classes = output_to_pred_classes(output) #convert output to predicted classes\n",
    "        \n",
    "        for k in range(mini_batch_size):\n",
    "            # check if predicted pair equals true pair\n",
    "            if torch.all(torch.eq(predicted_classes[k], target[b+k])).item() == 0:\n",
    "                nb_errors = nb_errors + 1\n",
    "\n",
    "    return nb_errors"
   ]
  },
  {
   "cell_type": "code",
   "execution_count": 13,
   "metadata": {},
   "outputs": [
    {
     "name": "stdout",
     "output_type": "stream",
     "text": [
      "Size of hidden FC layer: 10\n",
      "Train error: 99.2 percent\n",
      "Test error: 98.9 percent\n",
      "\n",
      "\n",
      "Size of hidden FC layer: 50\n",
      "Train error: 99.6 percent\n",
      "Test error: 98.8 percent\n",
      "\n",
      "\n",
      "Size of hidden FC layer: 200\n",
      "Train error: 99.6 percent\n",
      "Test error: 98.8 percent\n",
      "\n",
      "\n",
      "Size of hidden FC layer: 500\n",
      "Train error: 99.6 percent\n",
      "Test error: 98.8 percent\n",
      "\n",
      "\n",
      "Size of hidden FC layer: 1000\n",
      "Train error: 99.6 percent\n",
      "Test error: 98.8 percent\n",
      "\n",
      "\n"
     ]
    }
   ],
   "source": [
    "eta, mini_batch_size = 1e-1, 100\n",
    "h_size = [10, 50, 200, 500, 1000]\n",
    "\n",
    "for h in h_size:\n",
    "    model, criterion = Model(h), nn.MSELoss()\n",
    "    model, criterion = model.to(device), criterion.to(device)\n",
    "    optimizer = optim.SGD(model.parameters(), lr = eta)  \n",
    "    train_model(model.train(), criterion, optimizer, train_input, train_classes_binary, mini_batch_size)\n",
    "\n",
    "    print(\"Size of hidden FC layer:\",h)\n",
    "    print('Train error:',100* compute_nb_errors(model.train(), train_input, train_classes, mini_batch_size)/test_input.size(0), 'percent')\n",
    "    print('Test error:',100* compute_nb_errors(model, test_input, test_classes, mini_batch_size)/test_input.size(0), 'percent')\n",
    "    print('\\n')   "
   ]
  },
  {
   "cell_type": "code",
   "execution_count": 9,
   "metadata": {},
   "outputs": [],
   "source": [
    "#output = model(train_input)\n",
    "#criterion(output,train_classes)"
   ]
  },
  {
   "cell_type": "code",
   "execution_count": 10,
   "metadata": {},
   "outputs": [],
   "source": [
    "#model_train = model.train()\n",
    "#output = model_train(train_input)"
   ]
  },
  {
   "cell_type": "code",
   "execution_count": 11,
   "metadata": {},
   "outputs": [
    {
     "data": {
      "text/plain": [
       "1000"
      ]
     },
     "execution_count": 11,
     "metadata": {},
     "output_type": "execute_result"
    }
   ],
   "source": [
    "train_classes.shape[0]"
   ]
  },
  {
   "cell_type": "code",
   "execution_count": 12,
   "metadata": {},
   "outputs": [],
   "source": [
    "#train_target"
   ]
  },
  {
   "cell_type": "code",
   "execution_count": null,
   "metadata": {},
   "outputs": [],
   "source": []
  }
 ],
 "metadata": {
  "kernelspec": {
   "display_name": "Python 3",
   "language": "python",
   "name": "python3"
  },
  "language_info": {
   "codemirror_mode": {
    "name": "ipython",
    "version": 3
   },
   "file_extension": ".py",
   "mimetype": "text/x-python",
   "name": "python",
   "nbconvert_exporter": "python",
   "pygments_lexer": "ipython3",
   "version": "3.7.1"
  }
 },
 "nbformat": 4,
 "nbformat_minor": 2
}
