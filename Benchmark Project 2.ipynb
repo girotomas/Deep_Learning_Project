{
 "cells": [
  {
   "cell_type": "markdown",
   "metadata": {},
   "source": [
    "# Benchmark"
   ]
  },
  {
   "cell_type": "code",
   "execution_count": 1,
   "metadata": {},
   "outputs": [],
   "source": [
    "import math\n",
    "import torch\n",
    "from torch.autograd import Variable\n",
    "from torch import nn\n",
    "from torch.nn import functional as F\n",
    "import pandas as pd\n",
    "import matplotlib.pyplot as plt"
   ]
  },
  {
   "cell_type": "markdown",
   "metadata": {},
   "source": [
    "## Generate the dataset"
   ]
  },
  {
   "cell_type": "code",
   "execution_count": 2,
   "metadata": {},
   "outputs": [],
   "source": [
    "# The following method generates the specified dataset\n",
    "\n",
    "def sample_generator (dim, center):\n",
    "    \n",
    "    # dim -> dimension of the sample\n",
    "    # center -> center of the radius\n",
    "    \n",
    "    # Generate same randomly distributed datapoints in [0,1]^2\n",
    "    data = torch.empty(dim, 2).uniform_()\n",
    "    \n",
    "    # Define radius\n",
    "    radius = 1 / math.sqrt(2 * math.pi)\n",
    "    \n",
    "    # Compute the length of the vector and assign labels\n",
    "    label = ((data[:,0]-center[0]).pow(2) + (data[:,1]-center[1]).pow(2)).pow(0.5) > radius\n",
    "    \n",
    "    # label 0 -> inside the radius\n",
    "    # label 1 -> outside the radius\n",
    "    \n",
    "    # Allocate empty tensor\n",
    "    target = torch.empty(dim, 2).zero_()\n",
    "    \n",
    "    # Assign labels\n",
    "    for i in range(len(label)):\n",
    "        if label[i] == 0:\n",
    "            target[i][0] = 1 # Inside the radius\n",
    "        else:\n",
    "            target[i][1] = 1 # Outside the radius\n",
    "    \n",
    "    return data, target, label"
   ]
  },
  {
   "cell_type": "code",
   "execution_count": 3,
   "metadata": {},
   "outputs": [],
   "source": [
    "# Generate training and testing dataset\n",
    "center = (0.5, 0.5)\n",
    "train_input, train_target, train_label = sample_generator (1000, center)\n",
    "test_input, test_target, test_label    = sample_generator (1000, center)\n",
    "\n",
    "# Convert to variables\n",
    "train_input, train_target = Variable(train_input), Variable(train_target)\n",
    "test_input, test_target = Variable(test_input), Variable(test_target)"
   ]
  },
  {
   "cell_type": "markdown",
   "metadata": {},
   "source": [
    "## Define structure"
   ]
  },
  {
   "cell_type": "code",
   "execution_count": 4,
   "metadata": {},
   "outputs": [
    {
     "name": "stdout",
     "output_type": "stream",
     "text": [
      "Net(\n",
      "  (fc1): Linear(in_features=2, out_features=25, bias=True)\n",
      "  (fc2): Linear(in_features=25, out_features=25, bias=True)\n",
      "  (fc3): Linear(in_features=25, out_features=25, bias=True)\n",
      "  (fc4): Linear(in_features=25, out_features=2, bias=True)\n",
      ")\n"
     ]
    }
   ],
   "source": [
    "# Define structure\n",
    "class Net(nn.Module):\n",
    "    \n",
    "    def __init__(self):\n",
    "        super(Net, self).__init__()\n",
    "        \n",
    "        self.fc1 = nn.Linear (2, 25)\n",
    "        self.fc2 = nn.Linear (25, 25)\n",
    "        self.fc3 = nn.Linear (25, 25)\n",
    "        self.fc4 = nn.Linear (25, 2)\n",
    "\n",
    "    def forward(self, x):\n",
    "        x = F.relu(self.fc1(x))\n",
    "        x = F.relu(self.fc2(x))\n",
    "        x = F.relu(self.fc3(x))\n",
    "        x = torch.tanh(self.fc4(x))\n",
    "        return x\n",
    "\n",
    "# Print structure\n",
    "print(Net())"
   ]
  },
  {
   "cell_type": "code",
   "execution_count": null,
   "metadata": {},
   "outputs": [],
   "source": []
  },
  {
   "cell_type": "markdown",
   "metadata": {},
   "source": [
    "## Training"
   ]
  },
  {
   "cell_type": "code",
   "execution_count": 5,
   "metadata": {},
   "outputs": [],
   "source": [
    "df = pd.DataFrame(data=[], \n",
    "                  columns=['Train Loss', 'Train Errors', 'Train Accuracy', \n",
    "                           'Test Loss', 'Test Errors', 'Test Accuracy']\n",
    "                 )"
   ]
  },
  {
   "cell_type": "code",
   "execution_count": 6,
   "metadata": {},
   "outputs": [],
   "source": [
    "def compute_accuracy (output, target_data):\n",
    "    \n",
    "    # Compute number of samples\n",
    "    nb_samples = float(output.size(0))\n",
    "    \n",
    "    # Compute the position of the maximum in the output and target\n",
    "    pos_output = output.argmax(1)\n",
    "    pos_target = target_data.argmax(1)\n",
    "    \n",
    "    # Compute the number of errors\n",
    "    nb_error = float(pos_output.ne(pos_target).sum())\n",
    "    \n",
    "    # Compute accuracy\n",
    "    accuracy = 1 - nb_error / nb_samples\n",
    "    \n",
    "    return nb_error, accuracy\n",
    "\n",
    "# Note the \"nb_samples\" and \"nb_error\" must be converted to a float because otherwise the output is a tensor"
   ]
  },
  {
   "cell_type": "code",
   "execution_count": 7,
   "metadata": {},
   "outputs": [],
   "source": [
    "# Training parameters\n",
    "model         = Net()\n",
    "epoch         = 2000\n",
    "criterion     = nn.MSELoss()\n",
    "learning_rate = 5e-5\n",
    "optimizer     = torch.optim.SGD(model.parameters(), lr = learning_rate)"
   ]
  },
  {
   "cell_type": "code",
   "execution_count": 8,
   "metadata": {},
   "outputs": [],
   "source": [
    "for e in range(epoch):\n",
    "    train_loss = 0\n",
    "    test_loss  = 0\n",
    "    \n",
    "    # Forward propagation\n",
    "    output = model(train_input)\n",
    "    \n",
    "    # Compute loss\n",
    "    loss = criterion(output, train_target)\n",
    "    \n",
    "    # Calculate loss during training\n",
    "    train_loss = train_loss + loss.item() \n",
    "    \n",
    "    # Initialize gradient\n",
    "    optimizer.zero_grad()\n",
    "    \n",
    "    # Backward propagation\n",
    "    loss.backward()\n",
    "\n",
    "    # Optimize\n",
    "    optimizer.step()\n",
    "    \n",
    "    # Compute statistics for training\n",
    "    train_errors, train_accuracy = compute_accuracy (output, train_target)\n",
    "    \n",
    "    # Compute statistics for testing\n",
    "    test_output = model(test_input)\n",
    "    loss = criterion(test_output, test_target)\n",
    "    test_loss = test_loss + float(loss)\n",
    "    test_errors, test_accuracy = compute_accuracy (test_output, test_target)\n",
    "    \n",
    "    # Store results\n",
    "    df.loc[e] = [train_loss, train_errors, train_accuracy, test_loss, test_errors, test_accuracy]"
   ]
  },
  {
   "cell_type": "code",
   "execution_count": 9,
   "metadata": {
    "scrolled": true
   },
   "outputs": [
    {
     "data": {
      "text/html": [
       "<div>\n",
       "<style scoped>\n",
       "    .dataframe tbody tr th:only-of-type {\n",
       "        vertical-align: middle;\n",
       "    }\n",
       "\n",
       "    .dataframe tbody tr th {\n",
       "        vertical-align: top;\n",
       "    }\n",
       "\n",
       "    .dataframe thead th {\n",
       "        text-align: right;\n",
       "    }\n",
       "</style>\n",
       "<table border=\"1\" class=\"dataframe\">\n",
       "  <thead>\n",
       "    <tr style=\"text-align: right;\">\n",
       "      <th></th>\n",
       "      <th>Train Loss</th>\n",
       "      <th>Train Errors</th>\n",
       "      <th>Train Accuracy</th>\n",
       "      <th>Test Loss</th>\n",
       "      <th>Test Errors</th>\n",
       "      <th>Test Accuracy</th>\n",
       "    </tr>\n",
       "  </thead>\n",
       "  <tbody>\n",
       "    <tr>\n",
       "      <th>0</th>\n",
       "      <td>0.580383</td>\n",
       "      <td>499.0</td>\n",
       "      <td>0.501</td>\n",
       "      <td>0.582577</td>\n",
       "      <td>514.0</td>\n",
       "      <td>0.486</td>\n",
       "    </tr>\n",
       "    <tr>\n",
       "      <th>1</th>\n",
       "      <td>0.580341</td>\n",
       "      <td>499.0</td>\n",
       "      <td>0.501</td>\n",
       "      <td>0.582535</td>\n",
       "      <td>514.0</td>\n",
       "      <td>0.486</td>\n",
       "    </tr>\n",
       "    <tr>\n",
       "      <th>2</th>\n",
       "      <td>0.580298</td>\n",
       "      <td>499.0</td>\n",
       "      <td>0.501</td>\n",
       "      <td>0.582492</td>\n",
       "      <td>514.0</td>\n",
       "      <td>0.486</td>\n",
       "    </tr>\n",
       "    <tr>\n",
       "      <th>3</th>\n",
       "      <td>0.580255</td>\n",
       "      <td>499.0</td>\n",
       "      <td>0.501</td>\n",
       "      <td>0.582449</td>\n",
       "      <td>514.0</td>\n",
       "      <td>0.486</td>\n",
       "    </tr>\n",
       "    <tr>\n",
       "      <th>4</th>\n",
       "      <td>0.580213</td>\n",
       "      <td>499.0</td>\n",
       "      <td>0.501</td>\n",
       "      <td>0.582407</td>\n",
       "      <td>514.0</td>\n",
       "      <td>0.486</td>\n",
       "    </tr>\n",
       "  </tbody>\n",
       "</table>\n",
       "</div>"
      ],
      "text/plain": [
       "   Train Loss  Train Errors  Train Accuracy  Test Loss  Test Errors  \\\n",
       "0    0.580383         499.0           0.501   0.582577        514.0   \n",
       "1    0.580341         499.0           0.501   0.582535        514.0   \n",
       "2    0.580298         499.0           0.501   0.582492        514.0   \n",
       "3    0.580255         499.0           0.501   0.582449        514.0   \n",
       "4    0.580213         499.0           0.501   0.582407        514.0   \n",
       "\n",
       "   Test Accuracy  \n",
       "0          0.486  \n",
       "1          0.486  \n",
       "2          0.486  \n",
       "3          0.486  \n",
       "4          0.486  "
      ]
     },
     "metadata": {},
     "output_type": "display_data"
    }
   ],
   "source": [
    "# Print results at the beginning\n",
    "display(df.head(5))"
   ]
  },
  {
   "cell_type": "code",
   "execution_count": 10,
   "metadata": {
    "scrolled": true
   },
   "outputs": [
    {
     "data": {
      "text/html": [
       "<div>\n",
       "<style scoped>\n",
       "    .dataframe tbody tr th:only-of-type {\n",
       "        vertical-align: middle;\n",
       "    }\n",
       "\n",
       "    .dataframe tbody tr th {\n",
       "        vertical-align: top;\n",
       "    }\n",
       "\n",
       "    .dataframe thead th {\n",
       "        text-align: right;\n",
       "    }\n",
       "</style>\n",
       "<table border=\"1\" class=\"dataframe\">\n",
       "  <thead>\n",
       "    <tr style=\"text-align: right;\">\n",
       "      <th></th>\n",
       "      <th>Train Loss</th>\n",
       "      <th>Train Errors</th>\n",
       "      <th>Train Accuracy</th>\n",
       "      <th>Test Loss</th>\n",
       "      <th>Test Errors</th>\n",
       "      <th>Test Accuracy</th>\n",
       "    </tr>\n",
       "  </thead>\n",
       "  <tbody>\n",
       "    <tr>\n",
       "      <th>1995</th>\n",
       "      <td>0.504274</td>\n",
       "      <td>499.0</td>\n",
       "      <td>0.501</td>\n",
       "      <td>0.506196</td>\n",
       "      <td>514.0</td>\n",
       "      <td>0.486</td>\n",
       "    </tr>\n",
       "    <tr>\n",
       "      <th>1996</th>\n",
       "      <td>0.504240</td>\n",
       "      <td>499.0</td>\n",
       "      <td>0.501</td>\n",
       "      <td>0.506162</td>\n",
       "      <td>514.0</td>\n",
       "      <td>0.486</td>\n",
       "    </tr>\n",
       "    <tr>\n",
       "      <th>1997</th>\n",
       "      <td>0.504207</td>\n",
       "      <td>499.0</td>\n",
       "      <td>0.501</td>\n",
       "      <td>0.506128</td>\n",
       "      <td>514.0</td>\n",
       "      <td>0.486</td>\n",
       "    </tr>\n",
       "    <tr>\n",
       "      <th>1998</th>\n",
       "      <td>0.504173</td>\n",
       "      <td>499.0</td>\n",
       "      <td>0.501</td>\n",
       "      <td>0.506094</td>\n",
       "      <td>514.0</td>\n",
       "      <td>0.486</td>\n",
       "    </tr>\n",
       "    <tr>\n",
       "      <th>1999</th>\n",
       "      <td>0.504139</td>\n",
       "      <td>499.0</td>\n",
       "      <td>0.501</td>\n",
       "      <td>0.506060</td>\n",
       "      <td>514.0</td>\n",
       "      <td>0.486</td>\n",
       "    </tr>\n",
       "  </tbody>\n",
       "</table>\n",
       "</div>"
      ],
      "text/plain": [
       "      Train Loss  Train Errors  Train Accuracy  Test Loss  Test Errors  \\\n",
       "1995    0.504274         499.0           0.501   0.506196        514.0   \n",
       "1996    0.504240         499.0           0.501   0.506162        514.0   \n",
       "1997    0.504207         499.0           0.501   0.506128        514.0   \n",
       "1998    0.504173         499.0           0.501   0.506094        514.0   \n",
       "1999    0.504139         499.0           0.501   0.506060        514.0   \n",
       "\n",
       "      Test Accuracy  \n",
       "1995          0.486  \n",
       "1996          0.486  \n",
       "1997          0.486  \n",
       "1998          0.486  \n",
       "1999          0.486  "
      ]
     },
     "metadata": {},
     "output_type": "display_data"
    }
   ],
   "source": [
    "# Print results at the end\n",
    "display(df.tail(5))"
   ]
  },
  {
   "cell_type": "code",
   "execution_count": 11,
   "metadata": {
    "scrolled": false
   },
   "outputs": [
    {
     "data": {
      "image/png": "[encoded data removed]",
      "text/plain": [
       "<Figure size 432x432 with 1 Axes>"
      ]
     },
     "metadata": {
      "needs_background": "light"
     },
     "output_type": "display_data"
    }
   ],
   "source": [
    "# Show elbow\n",
    "plt.figure(figsize=(6,6))\n",
    "plt.plot(df['Train Loss'], label='Train loss')\n",
    "plt.plot(df['Test Loss'], label='Test loss')\n",
    "plt.xlabel('Epoch')\n",
    "plt.ylabel('Loss')\n",
    "plt.title('Loss vs Epochs')\n",
    "plt.legend()\n",
    "plt.grid()\n",
    "plt.show()"
   ]
  },
  {
   "cell_type": "code",
   "execution_count": 12,
   "metadata": {
    "scrolled": false
   },
   "outputs": [
    {
     "data": {
      "image/png": "[encoded data removed]",
      "text/plain": [
       "<Figure size 432x432 with 1 Axes>"
      ]
     },
     "metadata": {
      "needs_background": "light"
     },
     "output_type": "display_data"
    }
   ],
   "source": [
    "# Show elbow\n",
    "plt.figure(figsize=(6,6))\n",
    "plt.plot(df['Train Accuracy'], label='Train Accuracy')\n",
    "plt.plot(df['Test Accuracy'], label='Test Accuracy')\n",
    "plt.xlabel('Epoch')\n",
    "plt.ylabel('Accuracy')\n",
    "plt.title('Accuracy vs Epochs')\n",
    "plt.legend()\n",
    "plt.grid()\n",
    "plt.show()"
   ]
  }
 ],
 "metadata": {
  "kernelspec": {
   "display_name": "Python 3",
   "language": "python",
   "name": "python3"
  },
  "language_info": {
   "codemirror_mode": {
    "name": "ipython",
    "version": 3
   },
   "file_extension": ".py",
   "mimetype": "text/x-python",
   "name": "python",
   "nbconvert_exporter": "python",
   "pygments_lexer": "ipython3",
   "version": "3.7.1"
  }
 },
 "nbformat": 4,
 "nbformat_minor": 2
}
